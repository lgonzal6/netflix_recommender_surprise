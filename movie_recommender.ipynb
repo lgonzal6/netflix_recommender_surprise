{
  "cells": [
    {
      "cell_type": "code",
      "source": [
        "!pip3 install scikit-surprise"
      ],
      "metadata": {
        "colab": {
          "base_uri": "https://localhost:8080/"
        },
        "id": "tzwMy9Ju30j0",
        "outputId": "c3e4f3f9-bfa6-47d9-fd3f-0bd8427e4492"
      },
      "id": "tzwMy9Ju30j0",
      "execution_count": null,
      "outputs": [
        {
          "output_type": "stream",
          "name": "stdout",
          "text": [
            "Looking in indexes: https://pypi.org/simple, https://us-python.pkg.dev/colab-wheels/public/simple/\n",
            "Collecting scikit-surprise\n",
            "  Downloading scikit-surprise-1.1.1.tar.gz (11.8 MB)\n",
            "\u001b[K     |████████████████████████████████| 11.8 MB 4.1 MB/s \n",
            "\u001b[?25hRequirement already satisfied: joblib>=0.11 in /usr/local/lib/python3.7/dist-packages (from scikit-surprise) (1.1.0)\n",
            "Requirement already satisfied: numpy>=1.11.2 in /usr/local/lib/python3.7/dist-packages (from scikit-surprise) (1.21.6)\n",
            "Requirement already satisfied: scipy>=1.0.0 in /usr/local/lib/python3.7/dist-packages (from scikit-surprise) (1.4.1)\n",
            "Requirement already satisfied: six>=1.10.0 in /usr/local/lib/python3.7/dist-packages (from scikit-surprise) (1.15.0)\n",
            "Building wheels for collected packages: scikit-surprise\n",
            "  Building wheel for scikit-surprise (setup.py) ... \u001b[?25l\u001b[?25hdone\n",
            "  Created wheel for scikit-surprise: filename=scikit_surprise-1.1.1-cp37-cp37m-linux_x86_64.whl size=1633739 sha256=54ebb96bb4803f4d9175d898c5d38b397982aa4bcfb1af36ece45b00b6291cb8\n",
            "  Stored in directory: /root/.cache/pip/wheels/76/44/74/b498c42be47b2406bd27994e16c5188e337c657025ab400c1c\n",
            "Successfully built scikit-surprise\n",
            "Installing collected packages: scikit-surprise\n",
            "Successfully installed scikit-surprise-1.1.1\n"
          ]
        }
      ]
    },
    {
      "cell_type": "code",
      "execution_count": null,
      "id": "b4cb26ab-0e06-4bab-9142-c25640e6cb59",
      "metadata": {
        "id": "b4cb26ab-0e06-4bab-9142-c25640e6cb59"
      },
      "outputs": [],
      "source": [
        "import pandas as pd\n",
        "import numpy as np\n",
        "import matplotlib.pyplot as plt\n",
        "import seaborn as sns\n",
        "# import zipfile\n",
        "# from zipfile import ZipFile\n",
        "\n",
        "from os import listdir\n",
        "from os.path import isfile, join\n",
        "\n",
        "from surprise import Reader\n",
        "from surprise import Dataset\n",
        "from surprise.model_selection import cross_validate\n",
        "from surprise import NormalPredictor\n",
        "from surprise import KNNBasic\n",
        "from surprise import KNNWithMeans\n",
        "from surprise import KNNWithZScore\n",
        "from surprise import KNNBaseline\n",
        "from surprise import SVD\n",
        "from surprise import BaselineOnly\n",
        "from surprise import SVDpp\n",
        "from surprise import NMF\n",
        "from surprise import SlopeOne\n",
        "from surprise import CoClustering\n",
        "from surprise.accuracy import rmse\n",
        "from surprise import accuracy\n",
        "from surprise.model_selection import train_test_split, GridSearchCV\n",
        "\n",
        "colab = True  # Type True if using Google Colab, type False if using Jupyter Notebook\n",
        "if colab:\n",
        "    from google.colab import drive\n",
        "    from zipfile import ZipFile"
      ]
    },
    {
      "cell_type": "code",
      "source": [
        "if colab:\n",
        "    drive.mount('/content/drive', force_remount=True)"
      ],
      "metadata": {
        "colab": {
          "base_uri": "https://localhost:8080/"
        },
        "id": "cKIRzRan3xpc",
        "outputId": "e29d8385-3b56-4115-9257-502b2fab3c03"
      },
      "id": "cKIRzRan3xpc",
      "execution_count": null,
      "outputs": [
        {
          "output_type": "stream",
          "name": "stdout",
          "text": [
            "Mounted at /content/drive\n"
          ]
        }
      ]
    },
    {
      "cell_type": "code",
      "source": [
        "if colab:\n",
        "    data = 'drive/MyDrive/Netflix_rec/data/Netflix_Dataset_Rating.zip'\n",
        "\n",
        "    with ZipFile(data, 'r') as zip_ref:\n",
        "        zip_ref.extractall()"
      ],
      "metadata": {
        "id": "4AQzIb1J43V5"
      },
      "id": "4AQzIb1J43V5",
      "execution_count": null,
      "outputs": []
    },
    {
      "cell_type": "markdown",
      "id": "c12314a2-28ab-45f4-83fb-387ea765af61",
      "metadata": {
        "id": "c12314a2-28ab-45f4-83fb-387ea765af61"
      },
      "source": [
        "## The purpose of this exercise\n",
        "\n",
        "In this short project, we explore a shortened version of the data provided on Kaggle Netflix recommender competition. We will build a simple recommnder system using the Surprise library, and test its results. "
      ]
    },
    {
      "cell_type": "markdown",
      "id": "17bad55d-9e45-4bb6-bc9f-7a334ef81e07",
      "metadata": {
        "id": "17bad55d-9e45-4bb6-bc9f-7a334ef81e07"
      },
      "source": [
        "I am new to recommender systems and the Surprise library, my approach has been informed by the following posts:\n",
        "- https://towardsdatascience.com/building-and-testing-recommender-systems-with-surprise-step-by-step-d4ba702ef80b"
      ]
    },
    {
      "cell_type": "markdown",
      "id": "fb470662-59ac-4368-9a44-2ab85372624f",
      "metadata": {
        "id": "fb470662-59ac-4368-9a44-2ab85372624f"
      },
      "source": [
        "### Loading the dataset"
      ]
    },
    {
      "cell_type": "code",
      "execution_count": null,
      "id": "f3b97541-b3a9-42f8-99b2-ffdb0e1e5289",
      "metadata": {
        "colab": {
          "base_uri": "https://localhost:8080/"
        },
        "id": "f3b97541-b3a9-42f8-99b2-ffdb0e1e5289",
        "outputId": "ab476ca1-77fa-4c43-abb0-ca316b5ee70b"
      },
      "outputs": [
        {
          "output_type": "stream",
          "name": "stdout",
          "text": [
            "The train dataset has the shape (17337458, 3)\n"
          ]
        }
      ],
      "source": [
        "df = pd.read_csv('Netflix_Dataset_Rating.csv')\n",
        "#train = pd.read_csv('Netflix_Dataset_Movie.csv')\n",
        "\n",
        "print('The train dataset has the shape {}'.format(df.shape))"
      ]
    },
    {
      "cell_type": "markdown",
      "source": [
        "### Take a sample of the dataset \n",
        "\n",
        "This dataset has over 17M rows, which will make it difficult for some of the models in this project to work. We will instead take a sameple of this dataset instead. "
      ],
      "metadata": {
        "id": "VRYHmr1_ClDb"
      },
      "id": "VRYHmr1_ClDb"
    },
    {
      "cell_type": "code",
      "source": [
        "train = df.sample(frac=.3, replace=False, random_state=29)"
      ],
      "metadata": {
        "id": "D0qDyhWLw1gL"
      },
      "id": "D0qDyhWLw1gL",
      "execution_count": null,
      "outputs": []
    },
    {
      "cell_type": "code",
      "source": [
        "train.shape"
      ],
      "metadata": {
        "colab": {
          "base_uri": "https://localhost:8080/"
        },
        "id": "678YGmHvxkcg",
        "outputId": "7e5214ee-632b-4576-fd73-668226a2ae71"
      },
      "id": "678YGmHvxkcg",
      "execution_count": null,
      "outputs": [
        {
          "output_type": "execute_result",
          "data": {
            "text/plain": [
              "(5201237, 3)"
            ]
          },
          "metadata": {},
          "execution_count": 8
        }
      ]
    },
    {
      "cell_type": "code",
      "source": [
        "train.head()"
      ],
      "metadata": {
        "colab": {
          "base_uri": "https://localhost:8080/",
          "height": 206
        },
        "id": "1W4sSHkcwMZ1",
        "outputId": "2ab40d36-a1a8-443e-bc27-7ad398f8921f"
      },
      "id": "1W4sSHkcwMZ1",
      "execution_count": null,
      "outputs": [
        {
          "output_type": "execute_result",
          "data": {
            "text/plain": [
              "          User_ID  Rating  Movie_ID\n",
              "12551515  1311480       3      3333\n",
              "2915657   2070820       4       758\n",
              "10816810   876627       2      2874\n",
              "8172500   2279710       4      2171\n",
              "4967901   2259483       3      1367"
            ],
            "text/html": [
              "\n",
              "  <div id=\"df-25b89a39-c1d9-4257-9f00-e6485425b755\">\n",
              "    <div class=\"colab-df-container\">\n",
              "      <div>\n",
              "<style scoped>\n",
              "    .dataframe tbody tr th:only-of-type {\n",
              "        vertical-align: middle;\n",
              "    }\n",
              "\n",
              "    .dataframe tbody tr th {\n",
              "        vertical-align: top;\n",
              "    }\n",
              "\n",
              "    .dataframe thead th {\n",
              "        text-align: right;\n",
              "    }\n",
              "</style>\n",
              "<table border=\"1\" class=\"dataframe\">\n",
              "  <thead>\n",
              "    <tr style=\"text-align: right;\">\n",
              "      <th></th>\n",
              "      <th>User_ID</th>\n",
              "      <th>Rating</th>\n",
              "      <th>Movie_ID</th>\n",
              "    </tr>\n",
              "  </thead>\n",
              "  <tbody>\n",
              "    <tr>\n",
              "      <th>12551515</th>\n",
              "      <td>1311480</td>\n",
              "      <td>3</td>\n",
              "      <td>3333</td>\n",
              "    </tr>\n",
              "    <tr>\n",
              "      <th>2915657</th>\n",
              "      <td>2070820</td>\n",
              "      <td>4</td>\n",
              "      <td>758</td>\n",
              "    </tr>\n",
              "    <tr>\n",
              "      <th>10816810</th>\n",
              "      <td>876627</td>\n",
              "      <td>2</td>\n",
              "      <td>2874</td>\n",
              "    </tr>\n",
              "    <tr>\n",
              "      <th>8172500</th>\n",
              "      <td>2279710</td>\n",
              "      <td>4</td>\n",
              "      <td>2171</td>\n",
              "    </tr>\n",
              "    <tr>\n",
              "      <th>4967901</th>\n",
              "      <td>2259483</td>\n",
              "      <td>3</td>\n",
              "      <td>1367</td>\n",
              "    </tr>\n",
              "  </tbody>\n",
              "</table>\n",
              "</div>\n",
              "      <button class=\"colab-df-convert\" onclick=\"convertToInteractive('df-25b89a39-c1d9-4257-9f00-e6485425b755')\"\n",
              "              title=\"Convert this dataframe to an interactive table.\"\n",
              "              style=\"display:none;\">\n",
              "        \n",
              "  <svg xmlns=\"http://www.w3.org/2000/svg\" height=\"24px\"viewBox=\"0 0 24 24\"\n",
              "       width=\"24px\">\n",
              "    <path d=\"M0 0h24v24H0V0z\" fill=\"none\"/>\n",
              "    <path d=\"M18.56 5.44l.94 2.06.94-2.06 2.06-.94-2.06-.94-.94-2.06-.94 2.06-2.06.94zm-11 1L8.5 8.5l.94-2.06 2.06-.94-2.06-.94L8.5 2.5l-.94 2.06-2.06.94zm10 10l.94 2.06.94-2.06 2.06-.94-2.06-.94-.94-2.06-.94 2.06-2.06.94z\"/><path d=\"M17.41 7.96l-1.37-1.37c-.4-.4-.92-.59-1.43-.59-.52 0-1.04.2-1.43.59L10.3 9.45l-7.72 7.72c-.78.78-.78 2.05 0 2.83L4 21.41c.39.39.9.59 1.41.59.51 0 1.02-.2 1.41-.59l7.78-7.78 2.81-2.81c.8-.78.8-2.07 0-2.86zM5.41 20L4 18.59l7.72-7.72 1.47 1.35L5.41 20z\"/>\n",
              "  </svg>\n",
              "      </button>\n",
              "      \n",
              "  <style>\n",
              "    .colab-df-container {\n",
              "      display:flex;\n",
              "      flex-wrap:wrap;\n",
              "      gap: 12px;\n",
              "    }\n",
              "\n",
              "    .colab-df-convert {\n",
              "      background-color: #E8F0FE;\n",
              "      border: none;\n",
              "      border-radius: 50%;\n",
              "      cursor: pointer;\n",
              "      display: none;\n",
              "      fill: #1967D2;\n",
              "      height: 32px;\n",
              "      padding: 0 0 0 0;\n",
              "      width: 32px;\n",
              "    }\n",
              "\n",
              "    .colab-df-convert:hover {\n",
              "      background-color: #E2EBFA;\n",
              "      box-shadow: 0px 1px 2px rgba(60, 64, 67, 0.3), 0px 1px 3px 1px rgba(60, 64, 67, 0.15);\n",
              "      fill: #174EA6;\n",
              "    }\n",
              "\n",
              "    [theme=dark] .colab-df-convert {\n",
              "      background-color: #3B4455;\n",
              "      fill: #D2E3FC;\n",
              "    }\n",
              "\n",
              "    [theme=dark] .colab-df-convert:hover {\n",
              "      background-color: #434B5C;\n",
              "      box-shadow: 0px 1px 3px 1px rgba(0, 0, 0, 0.15);\n",
              "      filter: drop-shadow(0px 1px 2px rgba(0, 0, 0, 0.3));\n",
              "      fill: #FFFFFF;\n",
              "    }\n",
              "  </style>\n",
              "\n",
              "      <script>\n",
              "        const buttonEl =\n",
              "          document.querySelector('#df-25b89a39-c1d9-4257-9f00-e6485425b755 button.colab-df-convert');\n",
              "        buttonEl.style.display =\n",
              "          google.colab.kernel.accessAllowed ? 'block' : 'none';\n",
              "\n",
              "        async function convertToInteractive(key) {\n",
              "          const element = document.querySelector('#df-25b89a39-c1d9-4257-9f00-e6485425b755');\n",
              "          const dataTable =\n",
              "            await google.colab.kernel.invokeFunction('convertToInteractive',\n",
              "                                                     [key], {});\n",
              "          if (!dataTable) return;\n",
              "\n",
              "          const docLinkHtml = 'Like what you see? Visit the ' +\n",
              "            '<a target=\"_blank\" href=https://colab.research.google.com/notebooks/data_table.ipynb>data table notebook</a>'\n",
              "            + ' to learn more about interactive tables.';\n",
              "          element.innerHTML = '';\n",
              "          dataTable['output_type'] = 'display_data';\n",
              "          await google.colab.output.renderOutput(dataTable, element);\n",
              "          const docLink = document.createElement('div');\n",
              "          docLink.innerHTML = docLinkHtml;\n",
              "          element.appendChild(docLink);\n",
              "        }\n",
              "      </script>\n",
              "    </div>\n",
              "  </div>\n",
              "  "
            ]
          },
          "metadata": {},
          "execution_count": 9
        }
      ]
    },
    {
      "cell_type": "code",
      "source": [
        "train['User_ID'].describe()"
      ],
      "metadata": {
        "colab": {
          "base_uri": "https://localhost:8080/"
        },
        "id": "XWecVCUi02Iv",
        "outputId": "8c24c6a4-d61e-4be8-f665-134706a6c5c8"
      },
      "id": "XWecVCUi02Iv",
      "execution_count": null,
      "outputs": [
        {
          "output_type": "execute_result",
          "data": {
            "text/plain": [
              "count    5.201237e+06\n",
              "mean     1.321404e+06\n",
              "std      7.647396e+05\n",
              "min      6.000000e+00\n",
              "25%      6.602690e+05\n",
              "50%      1.316700e+06\n",
              "75%      1.984069e+06\n",
              "max      2.649429e+06\n",
              "Name: User_ID, dtype: float64"
            ]
          },
          "metadata": {},
          "execution_count": 10
        }
      ]
    },
    {
      "cell_type": "markdown",
      "source": [
        "I will take a slice of the data frame by eliminating the number of movies in the dataset. If I were to take a random sample of the dataset but maintain the same number of movies and users, we will have a matrix where each movie has a small % of people that have rated it, and it will make a very sparse matrix and good predictions will be more difficult to make. "
      ],
      "metadata": {
        "id": "zqD8ORILuRUP"
      },
      "id": "zqD8ORILuRUP"
    },
    {
      "cell_type": "markdown",
      "id": "e849b91a-96db-4bcb-bcf3-00e56acc7498",
      "metadata": {
        "id": "e849b91a-96db-4bcb-bcf3-00e56acc7498"
      },
      "source": [
        "### Let's explore the data and do some EDA"
      ]
    },
    {
      "cell_type": "code",
      "execution_count": null,
      "id": "73f8726e-2d6a-437d-ae10-142340b0ff17",
      "metadata": {
        "colab": {
          "base_uri": "https://localhost:8080/"
        },
        "id": "73f8726e-2d6a-437d-ae10-142340b0ff17",
        "outputId": "569b79a1-53b6-42ce-97d0-66979b7f96b9"
      },
      "outputs": [
        {
          "output_type": "execute_result",
          "data": {
            "text/plain": [
              "User_ID     0\n",
              "Rating      0\n",
              "Movie_ID    0\n",
              "dtype: int64"
            ]
          },
          "metadata": {},
          "execution_count": 11
        }
      ],
      "source": [
        "# Are there any null values in the data?\n",
        "train.isnull().sum()"
      ]
    },
    {
      "cell_type": "code",
      "execution_count": null,
      "id": "772cd883-ee33-460b-b8e3-32bd30143323",
      "metadata": {
        "colab": {
          "base_uri": "https://localhost:8080/"
        },
        "id": "772cd883-ee33-460b-b8e3-32bd30143323",
        "outputId": "fa5bd247-9f60-4356-f10c-7694732dbcee"
      },
      "outputs": [
        {
          "output_type": "execute_result",
          "data": {
            "text/plain": [
              "0"
            ]
          },
          "metadata": {},
          "execution_count": 12
        }
      ],
      "source": [
        "# Are there any duplicates in the data?\n",
        "train.duplicated().sum()"
      ]
    },
    {
      "cell_type": "code",
      "execution_count": null,
      "id": "164f99aa-fac9-4550-86cf-e5ca343bf601",
      "metadata": {
        "colab": {
          "base_uri": "https://localhost:8080/",
          "height": 206
        },
        "id": "164f99aa-fac9-4550-86cf-e5ca343bf601",
        "outputId": "3bac9245-3384-49e8-b819-2dae451a3bdd"
      },
      "outputs": [
        {
          "output_type": "execute_result",
          "data": {
            "text/plain": [
              "          User_ID  Rating  Movie_ID\n",
              "12551515  1311480       3      3333\n",
              "2915657   2070820       4       758\n",
              "10816810   876627       2      2874\n",
              "8172500   2279710       4      2171\n",
              "4967901   2259483       3      1367"
            ],
            "text/html": [
              "\n",
              "  <div id=\"df-2ba18c17-2384-4281-a800-bc964f9fd2c6\">\n",
              "    <div class=\"colab-df-container\">\n",
              "      <div>\n",
              "<style scoped>\n",
              "    .dataframe tbody tr th:only-of-type {\n",
              "        vertical-align: middle;\n",
              "    }\n",
              "\n",
              "    .dataframe tbody tr th {\n",
              "        vertical-align: top;\n",
              "    }\n",
              "\n",
              "    .dataframe thead th {\n",
              "        text-align: right;\n",
              "    }\n",
              "</style>\n",
              "<table border=\"1\" class=\"dataframe\">\n",
              "  <thead>\n",
              "    <tr style=\"text-align: right;\">\n",
              "      <th></th>\n",
              "      <th>User_ID</th>\n",
              "      <th>Rating</th>\n",
              "      <th>Movie_ID</th>\n",
              "    </tr>\n",
              "  </thead>\n",
              "  <tbody>\n",
              "    <tr>\n",
              "      <th>12551515</th>\n",
              "      <td>1311480</td>\n",
              "      <td>3</td>\n",
              "      <td>3333</td>\n",
              "    </tr>\n",
              "    <tr>\n",
              "      <th>2915657</th>\n",
              "      <td>2070820</td>\n",
              "      <td>4</td>\n",
              "      <td>758</td>\n",
              "    </tr>\n",
              "    <tr>\n",
              "      <th>10816810</th>\n",
              "      <td>876627</td>\n",
              "      <td>2</td>\n",
              "      <td>2874</td>\n",
              "    </tr>\n",
              "    <tr>\n",
              "      <th>8172500</th>\n",
              "      <td>2279710</td>\n",
              "      <td>4</td>\n",
              "      <td>2171</td>\n",
              "    </tr>\n",
              "    <tr>\n",
              "      <th>4967901</th>\n",
              "      <td>2259483</td>\n",
              "      <td>3</td>\n",
              "      <td>1367</td>\n",
              "    </tr>\n",
              "  </tbody>\n",
              "</table>\n",
              "</div>\n",
              "      <button class=\"colab-df-convert\" onclick=\"convertToInteractive('df-2ba18c17-2384-4281-a800-bc964f9fd2c6')\"\n",
              "              title=\"Convert this dataframe to an interactive table.\"\n",
              "              style=\"display:none;\">\n",
              "        \n",
              "  <svg xmlns=\"http://www.w3.org/2000/svg\" height=\"24px\"viewBox=\"0 0 24 24\"\n",
              "       width=\"24px\">\n",
              "    <path d=\"M0 0h24v24H0V0z\" fill=\"none\"/>\n",
              "    <path d=\"M18.56 5.44l.94 2.06.94-2.06 2.06-.94-2.06-.94-.94-2.06-.94 2.06-2.06.94zm-11 1L8.5 8.5l.94-2.06 2.06-.94-2.06-.94L8.5 2.5l-.94 2.06-2.06.94zm10 10l.94 2.06.94-2.06 2.06-.94-2.06-.94-.94-2.06-.94 2.06-2.06.94z\"/><path d=\"M17.41 7.96l-1.37-1.37c-.4-.4-.92-.59-1.43-.59-.52 0-1.04.2-1.43.59L10.3 9.45l-7.72 7.72c-.78.78-.78 2.05 0 2.83L4 21.41c.39.39.9.59 1.41.59.51 0 1.02-.2 1.41-.59l7.78-7.78 2.81-2.81c.8-.78.8-2.07 0-2.86zM5.41 20L4 18.59l7.72-7.72 1.47 1.35L5.41 20z\"/>\n",
              "  </svg>\n",
              "      </button>\n",
              "      \n",
              "  <style>\n",
              "    .colab-df-container {\n",
              "      display:flex;\n",
              "      flex-wrap:wrap;\n",
              "      gap: 12px;\n",
              "    }\n",
              "\n",
              "    .colab-df-convert {\n",
              "      background-color: #E8F0FE;\n",
              "      border: none;\n",
              "      border-radius: 50%;\n",
              "      cursor: pointer;\n",
              "      display: none;\n",
              "      fill: #1967D2;\n",
              "      height: 32px;\n",
              "      padding: 0 0 0 0;\n",
              "      width: 32px;\n",
              "    }\n",
              "\n",
              "    .colab-df-convert:hover {\n",
              "      background-color: #E2EBFA;\n",
              "      box-shadow: 0px 1px 2px rgba(60, 64, 67, 0.3), 0px 1px 3px 1px rgba(60, 64, 67, 0.15);\n",
              "      fill: #174EA6;\n",
              "    }\n",
              "\n",
              "    [theme=dark] .colab-df-convert {\n",
              "      background-color: #3B4455;\n",
              "      fill: #D2E3FC;\n",
              "    }\n",
              "\n",
              "    [theme=dark] .colab-df-convert:hover {\n",
              "      background-color: #434B5C;\n",
              "      box-shadow: 0px 1px 3px 1px rgba(0, 0, 0, 0.15);\n",
              "      filter: drop-shadow(0px 1px 2px rgba(0, 0, 0, 0.3));\n",
              "      fill: #FFFFFF;\n",
              "    }\n",
              "  </style>\n",
              "\n",
              "      <script>\n",
              "        const buttonEl =\n",
              "          document.querySelector('#df-2ba18c17-2384-4281-a800-bc964f9fd2c6 button.colab-df-convert');\n",
              "        buttonEl.style.display =\n",
              "          google.colab.kernel.accessAllowed ? 'block' : 'none';\n",
              "\n",
              "        async function convertToInteractive(key) {\n",
              "          const element = document.querySelector('#df-2ba18c17-2384-4281-a800-bc964f9fd2c6');\n",
              "          const dataTable =\n",
              "            await google.colab.kernel.invokeFunction('convertToInteractive',\n",
              "                                                     [key], {});\n",
              "          if (!dataTable) return;\n",
              "\n",
              "          const docLinkHtml = 'Like what you see? Visit the ' +\n",
              "            '<a target=\"_blank\" href=https://colab.research.google.com/notebooks/data_table.ipynb>data table notebook</a>'\n",
              "            + ' to learn more about interactive tables.';\n",
              "          element.innerHTML = '';\n",
              "          dataTable['output_type'] = 'display_data';\n",
              "          await google.colab.output.renderOutput(dataTable, element);\n",
              "          const docLink = document.createElement('div');\n",
              "          docLink.innerHTML = docLinkHtml;\n",
              "          element.appendChild(docLink);\n",
              "        }\n",
              "      </script>\n",
              "    </div>\n",
              "  </div>\n",
              "  "
            ]
          },
          "metadata": {},
          "execution_count": 13
        }
      ],
      "source": [
        "train.head()"
      ]
    },
    {
      "cell_type": "code",
      "execution_count": null,
      "id": "d67f9904-8eb8-4fc7-95e0-cb2e120ce0c5",
      "metadata": {
        "colab": {
          "base_uri": "https://localhost:8080/"
        },
        "id": "d67f9904-8eb8-4fc7-95e0-cb2e120ce0c5",
        "outputId": "3fe89ff3-92c4-4f71-b0cd-c21c9da17ca5"
      },
      "outputs": [
        {
          "output_type": "stream",
          "name": "stdout",
          "text": [
            "There are 1350 unique movies and 143457 unique users in the database.\n"
          ]
        }
      ],
      "source": [
        "#number of movies in the dataset\n",
        "num_movies = train['Movie_ID'].nunique()\n",
        "num_users = train['User_ID'].nunique()\n",
        "\n",
        "print('There are {} unique movies and {} unique users in the database.'.format(num_movies, num_users))"
      ]
    },
    {
      "cell_type": "markdown",
      "id": "99032e1d-5df7-4a45-9468-21feb10af6f7",
      "metadata": {
        "id": "99032e1d-5df7-4a45-9468-21feb10af6f7"
      },
      "source": [
        "### Distribution of ratings\n",
        "\n",
        "Movies are rated from a scale between 1 - 5, because our recommender system will try to predict ratings, it is important to get a sense of the distribution of overall ratings. Are movies most likely to be rated a 5, or 4, etc. This is important to look out for biases in our predictions. "
      ]
    },
    {
      "cell_type": "code",
      "execution_count": null,
      "id": "3b9ca271-642d-4485-b07b-f06cbc8db306",
      "metadata": {
        "colab": {
          "base_uri": "https://localhost:8080/"
        },
        "id": "3b9ca271-642d-4485-b07b-f06cbc8db306",
        "outputId": "73bfab3d-9b07-4f9e-bf45-e2e5f541f520"
      },
      "outputs": [
        {
          "output_type": "execute_result",
          "data": {
            "text/plain": [
              "4    0.340338\n",
              "3    0.299246\n",
              "5    0.217274\n",
              "2    0.101547\n",
              "1    0.041595\n",
              "Name: Rating, dtype: float64"
            ]
          },
          "metadata": {},
          "execution_count": 15
        }
      ],
      "source": [
        "train['Rating'].value_counts(normalize=True)"
      ]
    },
    {
      "cell_type": "code",
      "execution_count": null,
      "id": "193c85bc-2097-4c70-9cdb-6f09d1b709cb",
      "metadata": {
        "id": "193c85bc-2097-4c70-9cdb-6f09d1b709cb"
      },
      "outputs": [],
      "source": [
        "ratings = train['Rating'].value_counts()\n",
        "ratings = ratings.sort_index()"
      ]
    },
    {
      "cell_type": "code",
      "execution_count": null,
      "id": "c34b5da0-6999-40f4-8418-d8a265bce252",
      "metadata": {
        "colab": {
          "base_uri": "https://localhost:8080/",
          "height": 408
        },
        "id": "c34b5da0-6999-40f4-8418-d8a265bce252",
        "outputId": "ba9bdf53-154e-4dfe-ce80-0690aa6f8a78"
      },
      "outputs": [
        {
          "output_type": "display_data",
          "data": {
            "text/plain": [
              "<Figure size 720x432 with 1 Axes>"
            ],
            "image/png": "[encoded data removed]"
          },
          "metadata": {
            "needs_background": "light"
          }
        }
      ],
      "source": [
        "x_ticks = ['0', '300K', '600K', '900K', '1.2M', '1.5M', '1.8M']\n",
        "x_pos = [0, 300_000, 600_000, 900_000, 1_200_000, 1_500_000, 1_800_000]\n",
        "plt.figure(figsize=(10,6))\n",
        "sns.countplot(data=train, y=train['Rating'], color='#4C72B0')\n",
        "plt.xticks(ticks= x_pos,labels=x_ticks)\n",
        "plt.title('Most ratings are of 3 or above', fontdict={'size':14})\n",
        "plt.ylabel('Rating (1-5)', fontdict={'size':13})\n",
        "plt.xlabel('Count', fontdict={'size':13})\n",
        "\n",
        "for i in range(1, 6):\n",
        "    pct = ratings[i]/ratings.sum()\n",
        "    pct_string = '{}%'.format(round(100*pct, 1))\n",
        "    plt.text(ratings[i]+60000, i-1, pct_string, ha='center')"
      ]
    },
    {
      "cell_type": "markdown",
      "id": "2fc6d839-9ee3-4ac1-84cf-2dfca3589c8c",
      "metadata": {
        "id": "2fc6d839-9ee3-4ac1-84cf-2dfca3589c8c"
      },
      "source": [
        "### Distribution of users that have rated the movies in the dataset\n",
        "\n",
        "It's important to get a sense of how many users have rated the movies in our dataset. Ratings of movies that have been rated by less users will be harder to predict, and movies that have been rated by many users will be easier to predict. "
      ]
    },
    {
      "cell_type": "code",
      "execution_count": null,
      "id": "647e16cb-b2af-40c0-a7d3-f973c2dbb6d7",
      "metadata": {
        "id": "647e16cb-b2af-40c0-a7d3-f973c2dbb6d7"
      },
      "outputs": [],
      "source": [
        "count_rated = train.groupby('Movie_ID')[['User_ID']].count().sort_values(by='User_ID', ascending=True)"
      ]
    },
    {
      "cell_type": "code",
      "execution_count": null,
      "id": "e2d14f8e-9b04-4535-92fa-70a54594403a",
      "metadata": {
        "colab": {
          "base_uri": "https://localhost:8080/",
          "height": 300
        },
        "id": "e2d14f8e-9b04-4535-92fa-70a54594403a",
        "outputId": "c41b35b6-0faa-47ff-f6d8-e41d99e506e8"
      },
      "outputs": [
        {
          "output_type": "execute_result",
          "data": {
            "text/plain": [
              "              Count\n",
              "count   1350.000000\n",
              "mean    3852.768148\n",
              "std     5339.697294\n",
              "min      321.000000\n",
              "25%      793.750000\n",
              "50%     1554.000000\n",
              "75%     4411.000000\n",
              "max    35126.000000"
            ],
            "text/html": [
              "\n",
              "  <div id=\"df-0aa0f6e2-9431-4d00-9bff-467d8eca6006\">\n",
              "    <div class=\"colab-df-container\">\n",
              "      <div>\n",
              "<style scoped>\n",
              "    .dataframe tbody tr th:only-of-type {\n",
              "        vertical-align: middle;\n",
              "    }\n",
              "\n",
              "    .dataframe tbody tr th {\n",
              "        vertical-align: top;\n",
              "    }\n",
              "\n",
              "    .dataframe thead th {\n",
              "        text-align: right;\n",
              "    }\n",
              "</style>\n",
              "<table border=\"1\" class=\"dataframe\">\n",
              "  <thead>\n",
              "    <tr style=\"text-align: right;\">\n",
              "      <th></th>\n",
              "      <th>Count</th>\n",
              "    </tr>\n",
              "  </thead>\n",
              "  <tbody>\n",
              "    <tr>\n",
              "      <th>count</th>\n",
              "      <td>1350.000000</td>\n",
              "    </tr>\n",
              "    <tr>\n",
              "      <th>mean</th>\n",
              "      <td>3852.768148</td>\n",
              "    </tr>\n",
              "    <tr>\n",
              "      <th>std</th>\n",
              "      <td>5339.697294</td>\n",
              "    </tr>\n",
              "    <tr>\n",
              "      <th>min</th>\n",
              "      <td>321.000000</td>\n",
              "    </tr>\n",
              "    <tr>\n",
              "      <th>25%</th>\n",
              "      <td>793.750000</td>\n",
              "    </tr>\n",
              "    <tr>\n",
              "      <th>50%</th>\n",
              "      <td>1554.000000</td>\n",
              "    </tr>\n",
              "    <tr>\n",
              "      <th>75%</th>\n",
              "      <td>4411.000000</td>\n",
              "    </tr>\n",
              "    <tr>\n",
              "      <th>max</th>\n",
              "      <td>35126.000000</td>\n",
              "    </tr>\n",
              "  </tbody>\n",
              "</table>\n",
              "</div>\n",
              "      <button class=\"colab-df-convert\" onclick=\"convertToInteractive('df-0aa0f6e2-9431-4d00-9bff-467d8eca6006')\"\n",
              "              title=\"Convert this dataframe to an interactive table.\"\n",
              "              style=\"display:none;\">\n",
              "        \n",
              "  <svg xmlns=\"http://www.w3.org/2000/svg\" height=\"24px\"viewBox=\"0 0 24 24\"\n",
              "       width=\"24px\">\n",
              "    <path d=\"M0 0h24v24H0V0z\" fill=\"none\"/>\n",
              "    <path d=\"M18.56 5.44l.94 2.06.94-2.06 2.06-.94-2.06-.94-.94-2.06-.94 2.06-2.06.94zm-11 1L8.5 8.5l.94-2.06 2.06-.94-2.06-.94L8.5 2.5l-.94 2.06-2.06.94zm10 10l.94 2.06.94-2.06 2.06-.94-2.06-.94-.94-2.06-.94 2.06-2.06.94z\"/><path d=\"M17.41 7.96l-1.37-1.37c-.4-.4-.92-.59-1.43-.59-.52 0-1.04.2-1.43.59L10.3 9.45l-7.72 7.72c-.78.78-.78 2.05 0 2.83L4 21.41c.39.39.9.59 1.41.59.51 0 1.02-.2 1.41-.59l7.78-7.78 2.81-2.81c.8-.78.8-2.07 0-2.86zM5.41 20L4 18.59l7.72-7.72 1.47 1.35L5.41 20z\"/>\n",
              "  </svg>\n",
              "      </button>\n",
              "      \n",
              "  <style>\n",
              "    .colab-df-container {\n",
              "      display:flex;\n",
              "      flex-wrap:wrap;\n",
              "      gap: 12px;\n",
              "    }\n",
              "\n",
              "    .colab-df-convert {\n",
              "      background-color: #E8F0FE;\n",
              "      border: none;\n",
              "      border-radius: 50%;\n",
              "      cursor: pointer;\n",
              "      display: none;\n",
              "      fill: #1967D2;\n",
              "      height: 32px;\n",
              "      padding: 0 0 0 0;\n",
              "      width: 32px;\n",
              "    }\n",
              "\n",
              "    .colab-df-convert:hover {\n",
              "      background-color: #E2EBFA;\n",
              "      box-shadow: 0px 1px 2px rgba(60, 64, 67, 0.3), 0px 1px 3px 1px rgba(60, 64, 67, 0.15);\n",
              "      fill: #174EA6;\n",
              "    }\n",
              "\n",
              "    [theme=dark] .colab-df-convert {\n",
              "      background-color: #3B4455;\n",
              "      fill: #D2E3FC;\n",
              "    }\n",
              "\n",
              "    [theme=dark] .colab-df-convert:hover {\n",
              "      background-color: #434B5C;\n",
              "      box-shadow: 0px 1px 3px 1px rgba(0, 0, 0, 0.15);\n",
              "      filter: drop-shadow(0px 1px 2px rgba(0, 0, 0, 0.3));\n",
              "      fill: #FFFFFF;\n",
              "    }\n",
              "  </style>\n",
              "\n",
              "      <script>\n",
              "        const buttonEl =\n",
              "          document.querySelector('#df-0aa0f6e2-9431-4d00-9bff-467d8eca6006 button.colab-df-convert');\n",
              "        buttonEl.style.display =\n",
              "          google.colab.kernel.accessAllowed ? 'block' : 'none';\n",
              "\n",
              "        async function convertToInteractive(key) {\n",
              "          const element = document.querySelector('#df-0aa0f6e2-9431-4d00-9bff-467d8eca6006');\n",
              "          const dataTable =\n",
              "            await google.colab.kernel.invokeFunction('convertToInteractive',\n",
              "                                                     [key], {});\n",
              "          if (!dataTable) return;\n",
              "\n",
              "          const docLinkHtml = 'Like what you see? Visit the ' +\n",
              "            '<a target=\"_blank\" href=https://colab.research.google.com/notebooks/data_table.ipynb>data table notebook</a>'\n",
              "            + ' to learn more about interactive tables.';\n",
              "          element.innerHTML = '';\n",
              "          dataTable['output_type'] = 'display_data';\n",
              "          await google.colab.output.renderOutput(dataTable, element);\n",
              "          const docLink = document.createElement('div');\n",
              "          docLink.innerHTML = docLinkHtml;\n",
              "          element.appendChild(docLink);\n",
              "        }\n",
              "      </script>\n",
              "    </div>\n",
              "  </div>\n",
              "  "
            ]
          },
          "metadata": {},
          "execution_count": 19
        }
      ],
      "source": [
        "count_rated.rename(columns={'User_ID':'Count'}, inplace=True)\n",
        "\n",
        "count_rated.describe()"
      ]
    },
    {
      "cell_type": "markdown",
      "id": "d560785a-36b6-4010-9b6c-9a93d7067fff",
      "metadata": {
        "id": "d560785a-36b6-4010-9b6c-9a93d7067fff"
      },
      "source": [
        "Taking count of how many times each movie has been rated and looking at summary statistics above that about 50% of movies have been rated by less than 793 users. At the maximum, there is a movie that was rated by 35,126 users (out of 143,457 users, this is the most popular movie on the dataset!). At a minimum, there is a movie that was rated by 321 users. \n",
        "\n",
        "We can get a little more insight into this distribution with a plot. "
      ]
    },
    {
      "cell_type": "code",
      "execution_count": null,
      "id": "3900cc84-83d7-4a0e-ae2d-2fd1a5006e66",
      "metadata": {
        "colab": {
          "base_uri": "https://localhost:8080/",
          "height": 408
        },
        "id": "3900cc84-83d7-4a0e-ae2d-2fd1a5006e66",
        "outputId": "1a4cc127-fdf1-4669-b2a5-ead820d14d92"
      },
      "outputs": [
        {
          "output_type": "display_data",
          "data": {
            "text/plain": [
              "<Figure size 720x432 with 1 Axes>"
            ],
            "image/png": "[encoded data removed]"
          },
          "metadata": {
            "needs_background": "light"
          }
        }
      ],
      "source": [
        "count_rated.hist(figsize=(10,6))\n",
        "plt.title('Most movies have been rating by less than 5K users', fontdict={'size':14})\n",
        "plt.ylabel('Count of movies', fontdict={'size':13})\n",
        "plt.xlabel('Count of users that have rated the movie', fontdict={'size':13});"
      ]
    },
    {
      "cell_type": "markdown",
      "id": "83e1119e-d30b-44e3-a92c-40b8bc8a9880",
      "metadata": {
        "id": "83e1119e-d30b-44e3-a92c-40b8bc8a9880"
      },
      "source": [
        "### Distribution of movies that users rated\n",
        "\n",
        "We want to get a sense of how many movies our users tend to rate. For user that have rated many movies, their ratings for other movies will be easier to predict, and for users that have not made many predictions, their ratings will be harder to predict. "
      ]
    },
    {
      "cell_type": "code",
      "execution_count": null,
      "id": "588cbeb4-f90a-4dbf-a4e8-0d1b9b11fbcd",
      "metadata": {
        "id": "588cbeb4-f90a-4dbf-a4e8-0d1b9b11fbcd"
      },
      "outputs": [],
      "source": [
        "count_user_rating = train.groupby('User_ID')[['Movie_ID']].count().sort_values(by='Movie_ID', ascending=True)"
      ]
    },
    {
      "cell_type": "code",
      "execution_count": null,
      "id": "ed1e0ead-8ea1-4fcf-8624-671c0a4b5202",
      "metadata": {
        "colab": {
          "base_uri": "https://localhost:8080/",
          "height": 300
        },
        "id": "ed1e0ead-8ea1-4fcf-8624-671c0a4b5202",
        "outputId": "dc90f77b-8846-407d-9533-f9929e7f367b"
      },
      "outputs": [
        {
          "output_type": "execute_result",
          "data": {
            "text/plain": [
              "               Count\n",
              "count  143457.000000\n",
              "mean       36.256418\n",
              "std        24.487905\n",
              "min         1.000000\n",
              "25%        20.000000\n",
              "50%        29.000000\n",
              "75%        44.000000\n",
              "max       421.000000"
            ],
            "text/html": [
              "\n",
              "  <div id=\"df-cac8784e-b27b-406a-8343-5d44da1164ca\">\n",
              "    <div class=\"colab-df-container\">\n",
              "      <div>\n",
              "<style scoped>\n",
              "    .dataframe tbody tr th:only-of-type {\n",
              "        vertical-align: middle;\n",
              "    }\n",
              "\n",
              "    .dataframe tbody tr th {\n",
              "        vertical-align: top;\n",
              "    }\n",
              "\n",
              "    .dataframe thead th {\n",
              "        text-align: right;\n",
              "    }\n",
              "</style>\n",
              "<table border=\"1\" class=\"dataframe\">\n",
              "  <thead>\n",
              "    <tr style=\"text-align: right;\">\n",
              "      <th></th>\n",
              "      <th>Count</th>\n",
              "    </tr>\n",
              "  </thead>\n",
              "  <tbody>\n",
              "    <tr>\n",
              "      <th>count</th>\n",
              "      <td>143457.000000</td>\n",
              "    </tr>\n",
              "    <tr>\n",
              "      <th>mean</th>\n",
              "      <td>36.256418</td>\n",
              "    </tr>\n",
              "    <tr>\n",
              "      <th>std</th>\n",
              "      <td>24.487905</td>\n",
              "    </tr>\n",
              "    <tr>\n",
              "      <th>min</th>\n",
              "      <td>1.000000</td>\n",
              "    </tr>\n",
              "    <tr>\n",
              "      <th>25%</th>\n",
              "      <td>20.000000</td>\n",
              "    </tr>\n",
              "    <tr>\n",
              "      <th>50%</th>\n",
              "      <td>29.000000</td>\n",
              "    </tr>\n",
              "    <tr>\n",
              "      <th>75%</th>\n",
              "      <td>44.000000</td>\n",
              "    </tr>\n",
              "    <tr>\n",
              "      <th>max</th>\n",
              "      <td>421.000000</td>\n",
              "    </tr>\n",
              "  </tbody>\n",
              "</table>\n",
              "</div>\n",
              "      <button class=\"colab-df-convert\" onclick=\"convertToInteractive('df-cac8784e-b27b-406a-8343-5d44da1164ca')\"\n",
              "              title=\"Convert this dataframe to an interactive table.\"\n",
              "              style=\"display:none;\">\n",
              "        \n",
              "  <svg xmlns=\"http://www.w3.org/2000/svg\" height=\"24px\"viewBox=\"0 0 24 24\"\n",
              "       width=\"24px\">\n",
              "    <path d=\"M0 0h24v24H0V0z\" fill=\"none\"/>\n",
              "    <path d=\"M18.56 5.44l.94 2.06.94-2.06 2.06-.94-2.06-.94-.94-2.06-.94 2.06-2.06.94zm-11 1L8.5 8.5l.94-2.06 2.06-.94-2.06-.94L8.5 2.5l-.94 2.06-2.06.94zm10 10l.94 2.06.94-2.06 2.06-.94-2.06-.94-.94-2.06-.94 2.06-2.06.94z\"/><path d=\"M17.41 7.96l-1.37-1.37c-.4-.4-.92-.59-1.43-.59-.52 0-1.04.2-1.43.59L10.3 9.45l-7.72 7.72c-.78.78-.78 2.05 0 2.83L4 21.41c.39.39.9.59 1.41.59.51 0 1.02-.2 1.41-.59l7.78-7.78 2.81-2.81c.8-.78.8-2.07 0-2.86zM5.41 20L4 18.59l7.72-7.72 1.47 1.35L5.41 20z\"/>\n",
              "  </svg>\n",
              "      </button>\n",
              "      \n",
              "  <style>\n",
              "    .colab-df-container {\n",
              "      display:flex;\n",
              "      flex-wrap:wrap;\n",
              "      gap: 12px;\n",
              "    }\n",
              "\n",
              "    .colab-df-convert {\n",
              "      background-color: #E8F0FE;\n",
              "      border: none;\n",
              "      border-radius: 50%;\n",
              "      cursor: pointer;\n",
              "      display: none;\n",
              "      fill: #1967D2;\n",
              "      height: 32px;\n",
              "      padding: 0 0 0 0;\n",
              "      width: 32px;\n",
              "    }\n",
              "\n",
              "    .colab-df-convert:hover {\n",
              "      background-color: #E2EBFA;\n",
              "      box-shadow: 0px 1px 2px rgba(60, 64, 67, 0.3), 0px 1px 3px 1px rgba(60, 64, 67, 0.15);\n",
              "      fill: #174EA6;\n",
              "    }\n",
              "\n",
              "    [theme=dark] .colab-df-convert {\n",
              "      background-color: #3B4455;\n",
              "      fill: #D2E3FC;\n",
              "    }\n",
              "\n",
              "    [theme=dark] .colab-df-convert:hover {\n",
              "      background-color: #434B5C;\n",
              "      box-shadow: 0px 1px 3px 1px rgba(0, 0, 0, 0.15);\n",
              "      filter: drop-shadow(0px 1px 2px rgba(0, 0, 0, 0.3));\n",
              "      fill: #FFFFFF;\n",
              "    }\n",
              "  </style>\n",
              "\n",
              "      <script>\n",
              "        const buttonEl =\n",
              "          document.querySelector('#df-cac8784e-b27b-406a-8343-5d44da1164ca button.colab-df-convert');\n",
              "        buttonEl.style.display =\n",
              "          google.colab.kernel.accessAllowed ? 'block' : 'none';\n",
              "\n",
              "        async function convertToInteractive(key) {\n",
              "          const element = document.querySelector('#df-cac8784e-b27b-406a-8343-5d44da1164ca');\n",
              "          const dataTable =\n",
              "            await google.colab.kernel.invokeFunction('convertToInteractive',\n",
              "                                                     [key], {});\n",
              "          if (!dataTable) return;\n",
              "\n",
              "          const docLinkHtml = 'Like what you see? Visit the ' +\n",
              "            '<a target=\"_blank\" href=https://colab.research.google.com/notebooks/data_table.ipynb>data table notebook</a>'\n",
              "            + ' to learn more about interactive tables.';\n",
              "          element.innerHTML = '';\n",
              "          dataTable['output_type'] = 'display_data';\n",
              "          await google.colab.output.renderOutput(dataTable, element);\n",
              "          const docLink = document.createElement('div');\n",
              "          docLink.innerHTML = docLinkHtml;\n",
              "          element.appendChild(docLink);\n",
              "        }\n",
              "      </script>\n",
              "    </div>\n",
              "  </div>\n",
              "  "
            ]
          },
          "metadata": {},
          "execution_count": 22
        }
      ],
      "source": [
        "count_user_rating.rename(columns={'Movie_ID':'Count'}, inplace=True)\n",
        "\n",
        "count_user_rating.describe()"
      ]
    },
    {
      "cell_type": "markdown",
      "id": "9031ee4a-096e-469b-99b3-44c8e285da41",
      "metadata": {
        "id": "9031ee4a-096e-469b-99b3-44c8e285da41"
      },
      "source": [
        "About 50% of users have rated 29 movies or less. At minimum, we have user that has only rated 1 movie, and at a maximum, we have a user that has rated 421 movies (out of 1350)."
      ]
    },
    {
      "cell_type": "code",
      "execution_count": null,
      "id": "48c2c887-00d7-4948-9d78-6251faac7f48",
      "metadata": {
        "colab": {
          "base_uri": "https://localhost:8080/",
          "height": 408
        },
        "id": "48c2c887-00d7-4948-9d78-6251faac7f48",
        "outputId": "a90d8537-856f-4eeb-d0b4-60a8e8285739"
      },
      "outputs": [
        {
          "output_type": "display_data",
          "data": {
            "text/plain": [
              "<Figure size 720x432 with 1 Axes>"
            ],
            "image/png": "[encoded data removed]"
          },
          "metadata": {
            "needs_background": "light"
          }
        }
      ],
      "source": [
        "count_user_rating.hist(figsize=(10,6), bins=30)\n",
        "plt.title('Vast moajority of users have rated less than 60 movies', fontdict={'size':14})\n",
        "plt.ylabel('Count of users', fontdict={'size':13})\n",
        "plt.xlabel('Count of movies users have rated', fontdict={'size':13})\n",
        "plt.xlim(right=150, left=0);"
      ]
    },
    {
      "cell_type": "markdown",
      "id": "75e0e266-0a35-4b02-8c2c-f278ca01a380",
      "metadata": {
        "tags": [],
        "id": "75e0e266-0a35-4b02-8c2c-f278ca01a380"
      },
      "source": [
        "### Prepare the data for Surprise library"
      ]
    },
    {
      "cell_type": "markdown",
      "source": [
        "For this project, we will reduce the dimentionality of the dataset by filtering out users that have not rated many movies and filtering out movies that have not been rated by many users. For both of these groups, there will not be much information to base good predictions upon. We will produce better results by eliminating them from the dataset for now. Another reason to further reduce dimensionality is that for this project we are working with no more than 52 GB of RAM and these algorithms will require more power if we include the entire dataset.   "
      ],
      "metadata": {
        "id": "Yl52QM5ytKzT"
      },
      "id": "Yl52QM5ytKzT"
    },
    {
      "cell_type": "code",
      "source": [
        "total_users = train['User_ID'].nunique()\n",
        "total_books = train['Movie_ID'].nunique()\n",
        "\n",
        "#setting threshhold for movies that have been rated at least by 5% of users \n",
        "thresh_ratings = int(.05*total_users) \n",
        "\n",
        "#setting threshhold for users that have rated at least 5% of movies\n",
        "thresh_rated = int(.05*total_books)"
      ],
      "metadata": {
        "id": "rw_wT-CotflW"
      },
      "id": "rw_wT-CotflW",
      "execution_count": null,
      "outputs": []
    },
    {
      "cell_type": "code",
      "source": [
        "filter_movies = train['Movie_ID'].value_counts() > thresh_ratings\n",
        "filter_movies = filter_movies[filter_movies].index.tolist()\n",
        "\n",
        "filter_users = train['User_ID'].value_counts() > thresh_rated\n",
        "filter_users = filter_users[filter_users].index.tolist()\n",
        "\n",
        "new_train = train[(train['Movie_ID'].isin(filter_movies)) & (train['User_ID'].isin(filter_users))]\n",
        "print('The original data frame shape:\\t{}'.format(train.shape))\n",
        "print('The new data frame shape:\\t{}'.format(new_train.shape))"
      ],
      "metadata": {
        "colab": {
          "base_uri": "https://localhost:8080/"
        },
        "id": "LcDrqN_Jvwyp",
        "outputId": "3f51aeee-6eeb-4280-c8c2-243d683eff38"
      },
      "id": "LcDrqN_Jvwyp",
      "execution_count": null,
      "outputs": [
        {
          "output_type": "stream",
          "name": "stdout",
          "text": [
            "The original data frame shape:\t(5201237, 3)\n",
            "The new data frame shape:\t(563759, 3)\n"
          ]
        }
      ]
    },
    {
      "cell_type": "code",
      "source": [
        "print('We have {} unique users'.format(new_train['User_ID'].nunique()))\n",
        "print('We have {} unique movies'.format(new_train['Movie_ID'].nunique()))"
      ],
      "metadata": {
        "colab": {
          "base_uri": "https://localhost:8080/"
        },
        "id": "0jB59ZV4Fg7O",
        "outputId": "7bbd3343-8e77-4bb9-9094-248401c868b3"
      },
      "id": "0jB59ZV4Fg7O",
      "execution_count": null,
      "outputs": [
        {
          "output_type": "stream",
          "name": "stdout",
          "text": [
            "We have 14054 unique users\n",
            "We have 207 unique movies\n"
          ]
        }
      ]
    },
    {
      "cell_type": "markdown",
      "source": [
        "Let's look at the distribution of the number of movies that the users in the new dataset have rated."
      ],
      "metadata": {
        "id": "FW1minpVFbKs"
      },
      "id": "FW1minpVFbKs"
    },
    {
      "cell_type": "code",
      "source": [
        "new_count_user_rating = new_train.groupby('User_ID')[['Movie_ID']].count()\n",
        "new_count_user_rating.rename(columns={'Movie_ID':'Count'}, inplace=True)\n",
        "new_count_user_rating.describe()"
      ],
      "metadata": {
        "colab": {
          "base_uri": "https://localhost:8080/",
          "height": 300
        },
        "id": "XA9mufNcFEZ2",
        "outputId": "323ec181-4b4c-4848-feb1-04a93410d2ec"
      },
      "id": "XA9mufNcFEZ2",
      "execution_count": null,
      "outputs": [
        {
          "output_type": "execute_result",
          "data": {
            "text/plain": [
              "              Count\n",
              "count  14054.000000\n",
              "mean      40.113775\n",
              "std        8.150418\n",
              "min       13.000000\n",
              "25%       35.000000\n",
              "50%       40.000000\n",
              "75%       45.000000\n",
              "max       74.000000"
            ],
            "text/html": [
              "\n",
              "  <div id=\"df-b923e445-3a62-46d8-9b25-74a2ea6014fa\">\n",
              "    <div class=\"colab-df-container\">\n",
              "      <div>\n",
              "<style scoped>\n",
              "    .dataframe tbody tr th:only-of-type {\n",
              "        vertical-align: middle;\n",
              "    }\n",
              "\n",
              "    .dataframe tbody tr th {\n",
              "        vertical-align: top;\n",
              "    }\n",
              "\n",
              "    .dataframe thead th {\n",
              "        text-align: right;\n",
              "    }\n",
              "</style>\n",
              "<table border=\"1\" class=\"dataframe\">\n",
              "  <thead>\n",
              "    <tr style=\"text-align: right;\">\n",
              "      <th></th>\n",
              "      <th>Count</th>\n",
              "    </tr>\n",
              "  </thead>\n",
              "  <tbody>\n",
              "    <tr>\n",
              "      <th>count</th>\n",
              "      <td>14054.000000</td>\n",
              "    </tr>\n",
              "    <tr>\n",
              "      <th>mean</th>\n",
              "      <td>40.113775</td>\n",
              "    </tr>\n",
              "    <tr>\n",
              "      <th>std</th>\n",
              "      <td>8.150418</td>\n",
              "    </tr>\n",
              "    <tr>\n",
              "      <th>min</th>\n",
              "      <td>13.000000</td>\n",
              "    </tr>\n",
              "    <tr>\n",
              "      <th>25%</th>\n",
              "      <td>35.000000</td>\n",
              "    </tr>\n",
              "    <tr>\n",
              "      <th>50%</th>\n",
              "      <td>40.000000</td>\n",
              "    </tr>\n",
              "    <tr>\n",
              "      <th>75%</th>\n",
              "      <td>45.000000</td>\n",
              "    </tr>\n",
              "    <tr>\n",
              "      <th>max</th>\n",
              "      <td>74.000000</td>\n",
              "    </tr>\n",
              "  </tbody>\n",
              "</table>\n",
              "</div>\n",
              "      <button class=\"colab-df-convert\" onclick=\"convertToInteractive('df-b923e445-3a62-46d8-9b25-74a2ea6014fa')\"\n",
              "              title=\"Convert this dataframe to an interactive table.\"\n",
              "              style=\"display:none;\">\n",
              "        \n",
              "  <svg xmlns=\"http://www.w3.org/2000/svg\" height=\"24px\"viewBox=\"0 0 24 24\"\n",
              "       width=\"24px\">\n",
              "    <path d=\"M0 0h24v24H0V0z\" fill=\"none\"/>\n",
              "    <path d=\"M18.56 5.44l.94 2.06.94-2.06 2.06-.94-2.06-.94-.94-2.06-.94 2.06-2.06.94zm-11 1L8.5 8.5l.94-2.06 2.06-.94-2.06-.94L8.5 2.5l-.94 2.06-2.06.94zm10 10l.94 2.06.94-2.06 2.06-.94-2.06-.94-.94-2.06-.94 2.06-2.06.94z\"/><path d=\"M17.41 7.96l-1.37-1.37c-.4-.4-.92-.59-1.43-.59-.52 0-1.04.2-1.43.59L10.3 9.45l-7.72 7.72c-.78.78-.78 2.05 0 2.83L4 21.41c.39.39.9.59 1.41.59.51 0 1.02-.2 1.41-.59l7.78-7.78 2.81-2.81c.8-.78.8-2.07 0-2.86zM5.41 20L4 18.59l7.72-7.72 1.47 1.35L5.41 20z\"/>\n",
              "  </svg>\n",
              "      </button>\n",
              "      \n",
              "  <style>\n",
              "    .colab-df-container {\n",
              "      display:flex;\n",
              "      flex-wrap:wrap;\n",
              "      gap: 12px;\n",
              "    }\n",
              "\n",
              "    .colab-df-convert {\n",
              "      background-color: #E8F0FE;\n",
              "      border: none;\n",
              "      border-radius: 50%;\n",
              "      cursor: pointer;\n",
              "      display: none;\n",
              "      fill: #1967D2;\n",
              "      height: 32px;\n",
              "      padding: 0 0 0 0;\n",
              "      width: 32px;\n",
              "    }\n",
              "\n",
              "    .colab-df-convert:hover {\n",
              "      background-color: #E2EBFA;\n",
              "      box-shadow: 0px 1px 2px rgba(60, 64, 67, 0.3), 0px 1px 3px 1px rgba(60, 64, 67, 0.15);\n",
              "      fill: #174EA6;\n",
              "    }\n",
              "\n",
              "    [theme=dark] .colab-df-convert {\n",
              "      background-color: #3B4455;\n",
              "      fill: #D2E3FC;\n",
              "    }\n",
              "\n",
              "    [theme=dark] .colab-df-convert:hover {\n",
              "      background-color: #434B5C;\n",
              "      box-shadow: 0px 1px 3px 1px rgba(0, 0, 0, 0.15);\n",
              "      filter: drop-shadow(0px 1px 2px rgba(0, 0, 0, 0.3));\n",
              "      fill: #FFFFFF;\n",
              "    }\n",
              "  </style>\n",
              "\n",
              "      <script>\n",
              "        const buttonEl =\n",
              "          document.querySelector('#df-b923e445-3a62-46d8-9b25-74a2ea6014fa button.colab-df-convert');\n",
              "        buttonEl.style.display =\n",
              "          google.colab.kernel.accessAllowed ? 'block' : 'none';\n",
              "\n",
              "        async function convertToInteractive(key) {\n",
              "          const element = document.querySelector('#df-b923e445-3a62-46d8-9b25-74a2ea6014fa');\n",
              "          const dataTable =\n",
              "            await google.colab.kernel.invokeFunction('convertToInteractive',\n",
              "                                                     [key], {});\n",
              "          if (!dataTable) return;\n",
              "\n",
              "          const docLinkHtml = 'Like what you see? Visit the ' +\n",
              "            '<a target=\"_blank\" href=https://colab.research.google.com/notebooks/data_table.ipynb>data table notebook</a>'\n",
              "            + ' to learn more about interactive tables.';\n",
              "          element.innerHTML = '';\n",
              "          dataTable['output_type'] = 'display_data';\n",
              "          await google.colab.output.renderOutput(dataTable, element);\n",
              "          const docLink = document.createElement('div');\n",
              "          docLink.innerHTML = docLinkHtml;\n",
              "          element.appendChild(docLink);\n",
              "        }\n",
              "      </script>\n",
              "    </div>\n",
              "  </div>\n",
              "  "
            ]
          },
          "metadata": {},
          "execution_count": 32
        }
      ]
    },
    {
      "cell_type": "markdown",
      "source": [
        "Let's look at the distribution of the number of ratings that the movies have received from users"
      ],
      "metadata": {
        "id": "DyraykpDGPBr"
      },
      "id": "DyraykpDGPBr"
    },
    {
      "cell_type": "code",
      "source": [
        "new_count_rating = new_train.groupby('Movie_ID')[['User_ID']].count()\n",
        "new_count_rating.rename(columns={'User_ID':'Count'}, inplace=True)\n",
        "new_count_rating.describe()"
      ],
      "metadata": {
        "colab": {
          "base_uri": "https://localhost:8080/",
          "height": 300
        },
        "id": "eeL9u2aDGN_P",
        "outputId": "056260d9-15bf-4277-ff10-c140768bf25f"
      },
      "id": "eeL9u2aDGN_P",
      "execution_count": null,
      "outputs": [
        {
          "output_type": "execute_result",
          "data": {
            "text/plain": [
              "             Count\n",
              "count   207.000000\n",
              "mean   2723.473430\n",
              "std     635.142915\n",
              "min    1260.000000\n",
              "25%    2237.500000\n",
              "50%    2777.000000\n",
              "75%    3142.000000\n",
              "max    4196.000000"
            ],
            "text/html": [
              "\n",
              "  <div id=\"df-09997cd8-e81c-448a-b323-33e6d5c1fbb7\">\n",
              "    <div class=\"colab-df-container\">\n",
              "      <div>\n",
              "<style scoped>\n",
              "    .dataframe tbody tr th:only-of-type {\n",
              "        vertical-align: middle;\n",
              "    }\n",
              "\n",
              "    .dataframe tbody tr th {\n",
              "        vertical-align: top;\n",
              "    }\n",
              "\n",
              "    .dataframe thead th {\n",
              "        text-align: right;\n",
              "    }\n",
              "</style>\n",
              "<table border=\"1\" class=\"dataframe\">\n",
              "  <thead>\n",
              "    <tr style=\"text-align: right;\">\n",
              "      <th></th>\n",
              "      <th>Count</th>\n",
              "    </tr>\n",
              "  </thead>\n",
              "  <tbody>\n",
              "    <tr>\n",
              "      <th>count</th>\n",
              "      <td>207.000000</td>\n",
              "    </tr>\n",
              "    <tr>\n",
              "      <th>mean</th>\n",
              "      <td>2723.473430</td>\n",
              "    </tr>\n",
              "    <tr>\n",
              "      <th>std</th>\n",
              "      <td>635.142915</td>\n",
              "    </tr>\n",
              "    <tr>\n",
              "      <th>min</th>\n",
              "      <td>1260.000000</td>\n",
              "    </tr>\n",
              "    <tr>\n",
              "      <th>25%</th>\n",
              "      <td>2237.500000</td>\n",
              "    </tr>\n",
              "    <tr>\n",
              "      <th>50%</th>\n",
              "      <td>2777.000000</td>\n",
              "    </tr>\n",
              "    <tr>\n",
              "      <th>75%</th>\n",
              "      <td>3142.000000</td>\n",
              "    </tr>\n",
              "    <tr>\n",
              "      <th>max</th>\n",
              "      <td>4196.000000</td>\n",
              "    </tr>\n",
              "  </tbody>\n",
              "</table>\n",
              "</div>\n",
              "      <button class=\"colab-df-convert\" onclick=\"convertToInteractive('df-09997cd8-e81c-448a-b323-33e6d5c1fbb7')\"\n",
              "              title=\"Convert this dataframe to an interactive table.\"\n",
              "              style=\"display:none;\">\n",
              "        \n",
              "  <svg xmlns=\"http://www.w3.org/2000/svg\" height=\"24px\"viewBox=\"0 0 24 24\"\n",
              "       width=\"24px\">\n",
              "    <path d=\"M0 0h24v24H0V0z\" fill=\"none\"/>\n",
              "    <path d=\"M18.56 5.44l.94 2.06.94-2.06 2.06-.94-2.06-.94-.94-2.06-.94 2.06-2.06.94zm-11 1L8.5 8.5l.94-2.06 2.06-.94-2.06-.94L8.5 2.5l-.94 2.06-2.06.94zm10 10l.94 2.06.94-2.06 2.06-.94-2.06-.94-.94-2.06-.94 2.06-2.06.94z\"/><path d=\"M17.41 7.96l-1.37-1.37c-.4-.4-.92-.59-1.43-.59-.52 0-1.04.2-1.43.59L10.3 9.45l-7.72 7.72c-.78.78-.78 2.05 0 2.83L4 21.41c.39.39.9.59 1.41.59.51 0 1.02-.2 1.41-.59l7.78-7.78 2.81-2.81c.8-.78.8-2.07 0-2.86zM5.41 20L4 18.59l7.72-7.72 1.47 1.35L5.41 20z\"/>\n",
              "  </svg>\n",
              "      </button>\n",
              "      \n",
              "  <style>\n",
              "    .colab-df-container {\n",
              "      display:flex;\n",
              "      flex-wrap:wrap;\n",
              "      gap: 12px;\n",
              "    }\n",
              "\n",
              "    .colab-df-convert {\n",
              "      background-color: #E8F0FE;\n",
              "      border: none;\n",
              "      border-radius: 50%;\n",
              "      cursor: pointer;\n",
              "      display: none;\n",
              "      fill: #1967D2;\n",
              "      height: 32px;\n",
              "      padding: 0 0 0 0;\n",
              "      width: 32px;\n",
              "    }\n",
              "\n",
              "    .colab-df-convert:hover {\n",
              "      background-color: #E2EBFA;\n",
              "      box-shadow: 0px 1px 2px rgba(60, 64, 67, 0.3), 0px 1px 3px 1px rgba(60, 64, 67, 0.15);\n",
              "      fill: #174EA6;\n",
              "    }\n",
              "\n",
              "    [theme=dark] .colab-df-convert {\n",
              "      background-color: #3B4455;\n",
              "      fill: #D2E3FC;\n",
              "    }\n",
              "\n",
              "    [theme=dark] .colab-df-convert:hover {\n",
              "      background-color: #434B5C;\n",
              "      box-shadow: 0px 1px 3px 1px rgba(0, 0, 0, 0.15);\n",
              "      filter: drop-shadow(0px 1px 2px rgba(0, 0, 0, 0.3));\n",
              "      fill: #FFFFFF;\n",
              "    }\n",
              "  </style>\n",
              "\n",
              "      <script>\n",
              "        const buttonEl =\n",
              "          document.querySelector('#df-09997cd8-e81c-448a-b323-33e6d5c1fbb7 button.colab-df-convert');\n",
              "        buttonEl.style.display =\n",
              "          google.colab.kernel.accessAllowed ? 'block' : 'none';\n",
              "\n",
              "        async function convertToInteractive(key) {\n",
              "          const element = document.querySelector('#df-09997cd8-e81c-448a-b323-33e6d5c1fbb7');\n",
              "          const dataTable =\n",
              "            await google.colab.kernel.invokeFunction('convertToInteractive',\n",
              "                                                     [key], {});\n",
              "          if (!dataTable) return;\n",
              "\n",
              "          const docLinkHtml = 'Like what you see? Visit the ' +\n",
              "            '<a target=\"_blank\" href=https://colab.research.google.com/notebooks/data_table.ipynb>data table notebook</a>'\n",
              "            + ' to learn more about interactive tables.';\n",
              "          element.innerHTML = '';\n",
              "          dataTable['output_type'] = 'display_data';\n",
              "          await google.colab.output.renderOutput(dataTable, element);\n",
              "          const docLink = document.createElement('div');\n",
              "          docLink.innerHTML = docLinkHtml;\n",
              "          element.appendChild(docLink);\n",
              "        }\n",
              "      </script>\n",
              "    </div>\n",
              "  </div>\n",
              "  "
            ]
          },
          "metadata": {},
          "execution_count": 33
        }
      ]
    },
    {
      "cell_type": "markdown",
      "id": "c04334d3-6aa6-4f69-b29e-1bad1cffbbf3",
      "metadata": {
        "id": "c04334d3-6aa6-4f69-b29e-1bad1cffbbf3"
      },
      "source": [
        "To user Surprise, we will load the dataset from a pandas datafram using the load_from_df() method. The dataframe's columns has to be in the order of user_id, item_id, and rating. "
      ]
    },
    {
      "cell_type": "code",
      "execution_count": null,
      "id": "32cc41f8-354b-45c3-9ea7-1ce6816dde7c",
      "metadata": {
        "id": "32cc41f8-354b-45c3-9ea7-1ce6816dde7c"
      },
      "outputs": [],
      "source": [
        "data = new_train.reindex(columns=['User_ID', 'Movie_ID', 'Rating'])"
      ]
    },
    {
      "cell_type": "code",
      "execution_count": null,
      "id": "62cba724-6277-49a3-86fc-dc90d4c873d4",
      "metadata": {
        "colab": {
          "base_uri": "https://localhost:8080/",
          "height": 206
        },
        "id": "62cba724-6277-49a3-86fc-dc90d4c873d4",
        "outputId": "07b1b48a-e25a-440a-d5d6-097e810293f2"
      },
      "outputs": [
        {
          "output_type": "execute_result",
          "data": {
            "text/plain": [
              "          User_ID  Movie_ID  Rating\n",
              "4909586   1894544      1324       4\n",
              "11019650  1083069      2922       5\n",
              "12791908  2341658      3385       3\n",
              "14890468  1069602      3905       4\n",
              "7845737   2297136      2122       4"
            ],
            "text/html": [
              "\n",
              "  <div id=\"df-7d6ae927-18b8-4afe-bb10-89dc5be82c39\">\n",
              "    <div class=\"colab-df-container\">\n",
              "      <div>\n",
              "<style scoped>\n",
              "    .dataframe tbody tr th:only-of-type {\n",
              "        vertical-align: middle;\n",
              "    }\n",
              "\n",
              "    .dataframe tbody tr th {\n",
              "        vertical-align: top;\n",
              "    }\n",
              "\n",
              "    .dataframe thead th {\n",
              "        text-align: right;\n",
              "    }\n",
              "</style>\n",
              "<table border=\"1\" class=\"dataframe\">\n",
              "  <thead>\n",
              "    <tr style=\"text-align: right;\">\n",
              "      <th></th>\n",
              "      <th>User_ID</th>\n",
              "      <th>Movie_ID</th>\n",
              "      <th>Rating</th>\n",
              "    </tr>\n",
              "  </thead>\n",
              "  <tbody>\n",
              "    <tr>\n",
              "      <th>4909586</th>\n",
              "      <td>1894544</td>\n",
              "      <td>1324</td>\n",
              "      <td>4</td>\n",
              "    </tr>\n",
              "    <tr>\n",
              "      <th>11019650</th>\n",
              "      <td>1083069</td>\n",
              "      <td>2922</td>\n",
              "      <td>5</td>\n",
              "    </tr>\n",
              "    <tr>\n",
              "      <th>12791908</th>\n",
              "      <td>2341658</td>\n",
              "      <td>3385</td>\n",
              "      <td>3</td>\n",
              "    </tr>\n",
              "    <tr>\n",
              "      <th>14890468</th>\n",
              "      <td>1069602</td>\n",
              "      <td>3905</td>\n",
              "      <td>4</td>\n",
              "    </tr>\n",
              "    <tr>\n",
              "      <th>7845737</th>\n",
              "      <td>2297136</td>\n",
              "      <td>2122</td>\n",
              "      <td>4</td>\n",
              "    </tr>\n",
              "  </tbody>\n",
              "</table>\n",
              "</div>\n",
              "      <button class=\"colab-df-convert\" onclick=\"convertToInteractive('df-7d6ae927-18b8-4afe-bb10-89dc5be82c39')\"\n",
              "              title=\"Convert this dataframe to an interactive table.\"\n",
              "              style=\"display:none;\">\n",
              "        \n",
              "  <svg xmlns=\"http://www.w3.org/2000/svg\" height=\"24px\"viewBox=\"0 0 24 24\"\n",
              "       width=\"24px\">\n",
              "    <path d=\"M0 0h24v24H0V0z\" fill=\"none\"/>\n",
              "    <path d=\"M18.56 5.44l.94 2.06.94-2.06 2.06-.94-2.06-.94-.94-2.06-.94 2.06-2.06.94zm-11 1L8.5 8.5l.94-2.06 2.06-.94-2.06-.94L8.5 2.5l-.94 2.06-2.06.94zm10 10l.94 2.06.94-2.06 2.06-.94-2.06-.94-.94-2.06-.94 2.06-2.06.94z\"/><path d=\"M17.41 7.96l-1.37-1.37c-.4-.4-.92-.59-1.43-.59-.52 0-1.04.2-1.43.59L10.3 9.45l-7.72 7.72c-.78.78-.78 2.05 0 2.83L4 21.41c.39.39.9.59 1.41.59.51 0 1.02-.2 1.41-.59l7.78-7.78 2.81-2.81c.8-.78.8-2.07 0-2.86zM5.41 20L4 18.59l7.72-7.72 1.47 1.35L5.41 20z\"/>\n",
              "  </svg>\n",
              "      </button>\n",
              "      \n",
              "  <style>\n",
              "    .colab-df-container {\n",
              "      display:flex;\n",
              "      flex-wrap:wrap;\n",
              "      gap: 12px;\n",
              "    }\n",
              "\n",
              "    .colab-df-convert {\n",
              "      background-color: #E8F0FE;\n",
              "      border: none;\n",
              "      border-radius: 50%;\n",
              "      cursor: pointer;\n",
              "      display: none;\n",
              "      fill: #1967D2;\n",
              "      height: 32px;\n",
              "      padding: 0 0 0 0;\n",
              "      width: 32px;\n",
              "    }\n",
              "\n",
              "    .colab-df-convert:hover {\n",
              "      background-color: #E2EBFA;\n",
              "      box-shadow: 0px 1px 2px rgba(60, 64, 67, 0.3), 0px 1px 3px 1px rgba(60, 64, 67, 0.15);\n",
              "      fill: #174EA6;\n",
              "    }\n",
              "\n",
              "    [theme=dark] .colab-df-convert {\n",
              "      background-color: #3B4455;\n",
              "      fill: #D2E3FC;\n",
              "    }\n",
              "\n",
              "    [theme=dark] .colab-df-convert:hover {\n",
              "      background-color: #434B5C;\n",
              "      box-shadow: 0px 1px 3px 1px rgba(0, 0, 0, 0.15);\n",
              "      filter: drop-shadow(0px 1px 2px rgba(0, 0, 0, 0.3));\n",
              "      fill: #FFFFFF;\n",
              "    }\n",
              "  </style>\n",
              "\n",
              "      <script>\n",
              "        const buttonEl =\n",
              "          document.querySelector('#df-7d6ae927-18b8-4afe-bb10-89dc5be82c39 button.colab-df-convert');\n",
              "        buttonEl.style.display =\n",
              "          google.colab.kernel.accessAllowed ? 'block' : 'none';\n",
              "\n",
              "        async function convertToInteractive(key) {\n",
              "          const element = document.querySelector('#df-7d6ae927-18b8-4afe-bb10-89dc5be82c39');\n",
              "          const dataTable =\n",
              "            await google.colab.kernel.invokeFunction('convertToInteractive',\n",
              "                                                     [key], {});\n",
              "          if (!dataTable) return;\n",
              "\n",
              "          const docLinkHtml = 'Like what you see? Visit the ' +\n",
              "            '<a target=\"_blank\" href=https://colab.research.google.com/notebooks/data_table.ipynb>data table notebook</a>'\n",
              "            + ' to learn more about interactive tables.';\n",
              "          element.innerHTML = '';\n",
              "          dataTable['output_type'] = 'display_data';\n",
              "          await google.colab.output.renderOutput(dataTable, element);\n",
              "          const docLink = document.createElement('div');\n",
              "          docLink.innerHTML = docLinkHtml;\n",
              "          element.appendChild(docLink);\n",
              "        }\n",
              "      </script>\n",
              "    </div>\n",
              "  </div>\n",
              "  "
            ]
          },
          "metadata": {},
          "execution_count": 35
        }
      ],
      "source": [
        "data.head()"
      ]
    },
    {
      "cell_type": "code",
      "execution_count": null,
      "id": "d3b9ae71-8e5a-4e48-a825-dff0262420c1",
      "metadata": {
        "id": "d3b9ae71-8e5a-4e48-a825-dff0262420c1"
      },
      "outputs": [],
      "source": [
        "reader = Reader(rating_scale=(1, 5))\n",
        "data = Dataset.load_from_df(data[['User_ID', 'Movie_ID', 'Rating']], reader)"
      ]
    },
    {
      "cell_type": "markdown",
      "id": "9e46d5e2-c904-4e23-bd7d-5b9217f01f98",
      "metadata": {
        "id": "9e46d5e2-c904-4e23-bd7d-5b9217f01f98"
      },
      "source": [
        "With the surprise library, we will try out a few of their algorithms and select the one that provides the lowest rmse. We will try out the following:\n",
        "\n",
        "- BaselineOnly\n",
        "\n",
        "**KNN Algorithms**\n",
        "\n",
        "\n",
        "- KNNWithMeans\n",
        "\n",
        "\n",
        "**Matrix Factorization-based Algorithms**\n",
        "\n",
        "- SVD\n",
        "\n",
        "\n"
      ]
    },
    {
      "cell_type": "code",
      "source": [
        "!pip install tqdm\n",
        "\n",
        "from tqdm import tqdm"
      ],
      "metadata": {
        "colab": {
          "base_uri": "https://localhost:8080/"
        },
        "id": "dpy085lh4DCh",
        "outputId": "3d885607-0c3d-48fa-8d4a-4bbdc6aa2130"
      },
      "id": "dpy085lh4DCh",
      "execution_count": null,
      "outputs": [
        {
          "output_type": "stream",
          "name": "stdout",
          "text": [
            "Looking in indexes: https://pypi.org/simple, https://us-python.pkg.dev/colab-wheels/public/simple/\n",
            "Requirement already satisfied: tqdm in /usr/local/lib/python3.7/dist-packages (4.64.0)\n"
          ]
        }
      ]
    },
    {
      "cell_type": "code",
      "source": [
        "benchmark = []\n",
        "# Iterate over all algorithms\n",
        "for algorithm in tqdm([SVD(), KNNWithMeans(), BaselineOnly()]):\n",
        "    # Perform cross validation\n",
        "    results = cross_validate(algorithm, data, measures=['RMSE'], cv=3, verbose=False)\n",
        "    \n",
        "    # Get results & append algorithm name\n",
        "    tmp = pd.DataFrame.from_dict(results).mean(axis=0)\n",
        "    tmp = tmp.append(pd.Series([str(algorithm).split(' ')[0].split('.')[-1]], index=['Algorithm']))\n",
        "    benchmark.append(tmp)"
      ],
      "metadata": {
        "colab": {
          "base_uri": "https://localhost:8080/"
        },
        "id": "W9yiyKuk-ynx",
        "outputId": "41d70a64-f399-4eda-8880-6b4eb1c4ba7f"
      },
      "id": "W9yiyKuk-ynx",
      "execution_count": null,
      "outputs": [
        {
          "output_type": "stream",
          "name": "stderr",
          "text": [
            " 33%|███▎      | 1/3 [01:28<02:56, 88.03s/it]"
          ]
        },
        {
          "output_type": "stream",
          "name": "stdout",
          "text": [
            "Computing the msd similarity matrix...\n",
            "Done computing similarity matrix.\n",
            "Computing the msd similarity matrix...\n",
            "Done computing similarity matrix.\n",
            "Computing the msd similarity matrix...\n",
            "Done computing similarity matrix.\n"
          ]
        },
        {
          "output_type": "stream",
          "name": "stderr",
          "text": [
            "\r 67%|██████▋   | 2/3 [22:23<12:54, 774.66s/it]"
          ]
        },
        {
          "output_type": "stream",
          "name": "stdout",
          "text": [
            "Estimating biases using als...\n",
            "Estimating biases using als...\n",
            "Estimating biases using als...\n"
          ]
        },
        {
          "output_type": "stream",
          "name": "stderr",
          "text": [
            "100%|██████████| 3/3 [22:39<00:00, 453.06s/it]\n"
          ]
        }
      ]
    },
    {
      "cell_type": "code",
      "source": [
        "# results_2"
      ],
      "metadata": {
        "id": "XrsLE7kJfXQw"
      },
      "id": "XrsLE7kJfXQw",
      "execution_count": null,
      "outputs": []
    },
    {
      "cell_type": "code",
      "source": [
        "surprise_results = pd.DataFrame(benchmark).set_index('Algorithm').sort_values('test_rmse')"
      ],
      "metadata": {
        "id": "zgGViDJdzhjY"
      },
      "id": "zgGViDJdzhjY",
      "execution_count": null,
      "outputs": []
    },
    {
      "cell_type": "code",
      "source": [
        "surprise_results"
      ],
      "metadata": {
        "colab": {
          "base_uri": "https://localhost:8080/",
          "height": 175
        },
        "id": "H9rgFeGy4-2J",
        "outputId": "e84ecb1d-b400-498c-8cf5-bd0fe60489d8"
      },
      "id": "H9rgFeGy4-2J",
      "execution_count": null,
      "outputs": [
        {
          "output_type": "execute_result",
          "data": {
            "text/plain": [
              "              test_rmse   fit_time   test_time\n",
              "Algorithm                                     \n",
              "SVD            0.906359  25.711068    2.376215\n",
              "BaselineOnly   0.917614   2.298399    1.754009\n",
              "KNNWithMeans   0.923274  91.966545  325.205908"
            ],
            "text/html": [
              "\n",
              "  <div id=\"df-1e9354ad-e06d-4def-bcf3-136a5fcaceb0\">\n",
              "    <div class=\"colab-df-container\">\n",
              "      <div>\n",
              "<style scoped>\n",
              "    .dataframe tbody tr th:only-of-type {\n",
              "        vertical-align: middle;\n",
              "    }\n",
              "\n",
              "    .dataframe tbody tr th {\n",
              "        vertical-align: top;\n",
              "    }\n",
              "\n",
              "    .dataframe thead th {\n",
              "        text-align: right;\n",
              "    }\n",
              "</style>\n",
              "<table border=\"1\" class=\"dataframe\">\n",
              "  <thead>\n",
              "    <tr style=\"text-align: right;\">\n",
              "      <th></th>\n",
              "      <th>test_rmse</th>\n",
              "      <th>fit_time</th>\n",
              "      <th>test_time</th>\n",
              "    </tr>\n",
              "    <tr>\n",
              "      <th>Algorithm</th>\n",
              "      <th></th>\n",
              "      <th></th>\n",
              "      <th></th>\n",
              "    </tr>\n",
              "  </thead>\n",
              "  <tbody>\n",
              "    <tr>\n",
              "      <th>SVD</th>\n",
              "      <td>0.906359</td>\n",
              "      <td>25.711068</td>\n",
              "      <td>2.376215</td>\n",
              "    </tr>\n",
              "    <tr>\n",
              "      <th>BaselineOnly</th>\n",
              "      <td>0.917614</td>\n",
              "      <td>2.298399</td>\n",
              "      <td>1.754009</td>\n",
              "    </tr>\n",
              "    <tr>\n",
              "      <th>KNNWithMeans</th>\n",
              "      <td>0.923274</td>\n",
              "      <td>91.966545</td>\n",
              "      <td>325.205908</td>\n",
              "    </tr>\n",
              "  </tbody>\n",
              "</table>\n",
              "</div>\n",
              "      <button class=\"colab-df-convert\" onclick=\"convertToInteractive('df-1e9354ad-e06d-4def-bcf3-136a5fcaceb0')\"\n",
              "              title=\"Convert this dataframe to an interactive table.\"\n",
              "              style=\"display:none;\">\n",
              "        \n",
              "  <svg xmlns=\"http://www.w3.org/2000/svg\" height=\"24px\"viewBox=\"0 0 24 24\"\n",
              "       width=\"24px\">\n",
              "    <path d=\"M0 0h24v24H0V0z\" fill=\"none\"/>\n",
              "    <path d=\"M18.56 5.44l.94 2.06.94-2.06 2.06-.94-2.06-.94-.94-2.06-.94 2.06-2.06.94zm-11 1L8.5 8.5l.94-2.06 2.06-.94-2.06-.94L8.5 2.5l-.94 2.06-2.06.94zm10 10l.94 2.06.94-2.06 2.06-.94-2.06-.94-.94-2.06-.94 2.06-2.06.94z\"/><path d=\"M17.41 7.96l-1.37-1.37c-.4-.4-.92-.59-1.43-.59-.52 0-1.04.2-1.43.59L10.3 9.45l-7.72 7.72c-.78.78-.78 2.05 0 2.83L4 21.41c.39.39.9.59 1.41.59.51 0 1.02-.2 1.41-.59l7.78-7.78 2.81-2.81c.8-.78.8-2.07 0-2.86zM5.41 20L4 18.59l7.72-7.72 1.47 1.35L5.41 20z\"/>\n",
              "  </svg>\n",
              "      </button>\n",
              "      \n",
              "  <style>\n",
              "    .colab-df-container {\n",
              "      display:flex;\n",
              "      flex-wrap:wrap;\n",
              "      gap: 12px;\n",
              "    }\n",
              "\n",
              "    .colab-df-convert {\n",
              "      background-color: #E8F0FE;\n",
              "      border: none;\n",
              "      border-radius: 50%;\n",
              "      cursor: pointer;\n",
              "      display: none;\n",
              "      fill: #1967D2;\n",
              "      height: 32px;\n",
              "      padding: 0 0 0 0;\n",
              "      width: 32px;\n",
              "    }\n",
              "\n",
              "    .colab-df-convert:hover {\n",
              "      background-color: #E2EBFA;\n",
              "      box-shadow: 0px 1px 2px rgba(60, 64, 67, 0.3), 0px 1px 3px 1px rgba(60, 64, 67, 0.15);\n",
              "      fill: #174EA6;\n",
              "    }\n",
              "\n",
              "    [theme=dark] .colab-df-convert {\n",
              "      background-color: #3B4455;\n",
              "      fill: #D2E3FC;\n",
              "    }\n",
              "\n",
              "    [theme=dark] .colab-df-convert:hover {\n",
              "      background-color: #434B5C;\n",
              "      box-shadow: 0px 1px 3px 1px rgba(0, 0, 0, 0.15);\n",
              "      filter: drop-shadow(0px 1px 2px rgba(0, 0, 0, 0.3));\n",
              "      fill: #FFFFFF;\n",
              "    }\n",
              "  </style>\n",
              "\n",
              "      <script>\n",
              "        const buttonEl =\n",
              "          document.querySelector('#df-1e9354ad-e06d-4def-bcf3-136a5fcaceb0 button.colab-df-convert');\n",
              "        buttonEl.style.display =\n",
              "          google.colab.kernel.accessAllowed ? 'block' : 'none';\n",
              "\n",
              "        async function convertToInteractive(key) {\n",
              "          const element = document.querySelector('#df-1e9354ad-e06d-4def-bcf3-136a5fcaceb0');\n",
              "          const dataTable =\n",
              "            await google.colab.kernel.invokeFunction('convertToInteractive',\n",
              "                                                     [key], {});\n",
              "          if (!dataTable) return;\n",
              "\n",
              "          const docLinkHtml = 'Like what you see? Visit the ' +\n",
              "            '<a target=\"_blank\" href=https://colab.research.google.com/notebooks/data_table.ipynb>data table notebook</a>'\n",
              "            + ' to learn more about interactive tables.';\n",
              "          element.innerHTML = '';\n",
              "          dataTable['output_type'] = 'display_data';\n",
              "          await google.colab.output.renderOutput(dataTable, element);\n",
              "          const docLink = document.createElement('div');\n",
              "          docLink.innerHTML = docLinkHtml;\n",
              "          element.appendChild(docLink);\n",
              "        }\n",
              "      </script>\n",
              "    </div>\n",
              "  </div>\n",
              "  "
            ]
          },
          "metadata": {},
          "execution_count": 41
        }
      ]
    },
    {
      "cell_type": "markdown",
      "source": [
        "We got the best result from the SVD model. Below I will used GridSearchCV to find the best hyper-parameters for this model. "
      ],
      "metadata": {
        "id": "4O3nXXC6Cifw"
      },
      "id": "4O3nXXC6Cifw"
    },
    {
      "cell_type": "code",
      "source": [
        "# Set parameters for Gridsearch on SVD\n",
        "\n",
        "parameters= {'n_factors': [50, 100, 150],\n",
        "             'reg_all': [0.02, 0.1],\n",
        "             'n_epochs': [20, 30],\n",
        "             'lr_all': [.005, .01]}\n",
        "\n",
        "gridsvd = GridSearchCV(SVD, param_grid=parameters, measures=['rmse'])\n",
        "\n",
        "# Fit SVD model on data\n",
        "gridsvd.fit(data)"
      ],
      "metadata": {
        "id": "zKhTlkPP4-_q"
      },
      "id": "zKhTlkPP4-_q",
      "execution_count": null,
      "outputs": []
    },
    {
      "cell_type": "code",
      "source": [
        "best = gridsvd.best_params['rmse']\n",
        "best\n"
      ],
      "metadata": {
        "colab": {
          "base_uri": "https://localhost:8080/"
        },
        "id": "JOs0hqLpuVus",
        "outputId": "0686d6d8-312d-4886-ebd4-999886c4ebbc"
      },
      "id": "JOs0hqLpuVus",
      "execution_count": null,
      "outputs": [
        {
          "output_type": "execute_result",
          "data": {
            "text/plain": [
              "{'lr_all': 0.01, 'n_epochs': 30, 'n_factors': 150, 'reg_all': 0.1}"
            ]
          },
          "metadata": {},
          "execution_count": 43
        }
      ]
    },
    {
      "cell_type": "code",
      "execution_count": null,
      "id": "fc5668c1-88cd-4645-a39b-3a64b4823178",
      "metadata": {
        "colab": {
          "base_uri": "https://localhost:8080/"
        },
        "id": "fc5668c1-88cd-4645-a39b-3a64b4823178",
        "outputId": "f5b7e347-8222-4449-ee2c-bdac514eb256"
      },
      "outputs": [
        {
          "output_type": "stream",
          "name": "stdout",
          "text": [
            "Using SVD with the best GridSearch params\n",
            "RMSE: 0.8824\n"
          ]
        },
        {
          "output_type": "execute_result",
          "data": {
            "text/plain": [
              "0.8823829708216288"
            ]
          },
          "metadata": {},
          "execution_count": 44
        }
      ],
      "source": [
        "print('Using SVD with the best GridSearch params')\n",
        "\n",
        "algo = SVD(n_factors= best['n_factors'],\n",
        "             reg_all = best['reg_all'],\n",
        "             n_epochs = best['n_epochs'],\n",
        "             lr_all= best['lr_all'])\n",
        "\n",
        "trainset, testset = train_test_split(data, test_size=0.25)\n",
        "predictions = algo.fit(trainset).test(testset)\n",
        "accuracy.rmse(predictions)"
      ]
    },
    {
      "cell_type": "markdown",
      "source": [
        "With a root mean squared error of 0.88, we can more or less gauge that our model tends to misspredict someone's rating by +/- 0.88. \n",
        "\n",
        "However, note that rmse tends to greatly penalize larger errors, so in cases where the actual rating was say, 1 but the model predicts a 5, rmse is imposing a much greater penalty on that error than on 4 occassion where the rating was missed by 1 rating point. "
      ],
      "metadata": {
        "id": "TyDiH_T-6vwi"
      },
      "id": "TyDiH_T-6vwi"
    },
    {
      "cell_type": "code",
      "source": [
        "accuracy.mae(predictions)"
      ],
      "metadata": {
        "colab": {
          "base_uri": "https://localhost:8080/"
        },
        "id": "nIjyuVcd6OAs",
        "outputId": "b2ac5514-fc7d-45f7-c7df-810ad8a3691b"
      },
      "id": "nIjyuVcd6OAs",
      "execution_count": null,
      "outputs": [
        {
          "output_type": "stream",
          "name": "stdout",
          "text": [
            "MAE:  0.6954\n"
          ]
        },
        {
          "output_type": "execute_result",
          "data": {
            "text/plain": [
              "0.6953928835640425"
            ]
          },
          "metadata": {},
          "execution_count": 56
        }
      ]
    },
    {
      "cell_type": "markdown",
      "source": [
        "The mean squared error does not impose such penalty, and shows us that on average, the model is mispredicting ratings by 0.70 rating points. "
      ],
      "metadata": {
        "id": "o5OVA95M7hT1"
      },
      "id": "o5OVA95M7hT1"
    },
    {
      "cell_type": "code",
      "execution_count": null,
      "id": "cf4c3dd0-f6cd-415e-902d-a009869851d9",
      "metadata": {
        "id": "cf4c3dd0-f6cd-415e-902d-a009869851d9"
      },
      "outputs": [],
      "source": [
        "trainset = algo.trainset"
      ]
    },
    {
      "cell_type": "code",
      "source": [
        "def get_Iu(uid):\n",
        "    \"\"\" return the number of items rated by given user\n",
        "    args: \n",
        "      uid: the id of the user\n",
        "    returns: \n",
        "      the number of items rated by the user\n",
        "    \"\"\"\n",
        "    try:\n",
        "        return len(trainset.ur[trainset.to_inner_uid(uid)])\n",
        "    except ValueError: # user was not part of the trainset\n",
        "        return 0\n",
        "    \n",
        "def get_Ui(iid):\n",
        "    \"\"\" return number of users that have rated given item\n",
        "    args:\n",
        "      iid: the raw id of the item\n",
        "    returns:\n",
        "      the number of users that have rated the item.\n",
        "    \"\"\"\n",
        "    try: \n",
        "        return len(trainset.ir[trainset.to_inner_iid(iid)])\n",
        "    except ValueError:\n",
        "        return 0\n",
        "    \n",
        "df = pd.DataFrame(predictions, columns=['uid', 'iid', 'rui', 'est', 'details'])\n",
        "df['Iu'] = df.uid.apply(get_Iu)\n",
        "df['Ui'] = df.iid.apply(get_Ui)\n",
        "df['err'] = abs(df.est - df.rui)"
      ],
      "metadata": {
        "id": "r-bxpfJ4zvlW"
      },
      "id": "r-bxpfJ4zvlW",
      "execution_count": null,
      "outputs": []
    },
    {
      "cell_type": "code",
      "source": [
        "df.head()"
      ],
      "metadata": {
        "colab": {
          "base_uri": "https://localhost:8080/",
          "height": 206
        },
        "id": "Xd_7uoAG09Dn",
        "outputId": "99bf9898-da64-4148-db33-cf5c1a76f22a"
      },
      "id": "Xd_7uoAG09Dn",
      "execution_count": null,
      "outputs": [
        {
          "output_type": "execute_result",
          "data": {
            "text/plain": [
              "       uid   iid  rui       est                    details  Iu    Ui       err\n",
              "0  1985504  3684  3.0  3.764199  {'was_impossible': False}  31  1866  0.764199\n",
              "1  2432474  2470  2.0  3.153183  {'was_impossible': False}  35  2483  1.153183\n",
              "2  1181784  3825  3.0  3.333126  {'was_impossible': False}  43  2428  0.333126\n",
              "3    70125  3315  4.0  4.289948  {'was_impossible': False}  28  1232  0.289948\n",
              "4  1048629  1659  5.0  3.580244  {'was_impossible': False}  34  2143  1.419756"
            ],
            "text/html": [
              "\n",
              "  <div id=\"df-3effdc32-d2c1-4ca2-9397-df3d676d16c5\">\n",
              "    <div class=\"colab-df-container\">\n",
              "      <div>\n",
              "<style scoped>\n",
              "    .dataframe tbody tr th:only-of-type {\n",
              "        vertical-align: middle;\n",
              "    }\n",
              "\n",
              "    .dataframe tbody tr th {\n",
              "        vertical-align: top;\n",
              "    }\n",
              "\n",
              "    .dataframe thead th {\n",
              "        text-align: right;\n",
              "    }\n",
              "</style>\n",
              "<table border=\"1\" class=\"dataframe\">\n",
              "  <thead>\n",
              "    <tr style=\"text-align: right;\">\n",
              "      <th></th>\n",
              "      <th>uid</th>\n",
              "      <th>iid</th>\n",
              "      <th>rui</th>\n",
              "      <th>est</th>\n",
              "      <th>details</th>\n",
              "      <th>Iu</th>\n",
              "      <th>Ui</th>\n",
              "      <th>err</th>\n",
              "    </tr>\n",
              "  </thead>\n",
              "  <tbody>\n",
              "    <tr>\n",
              "      <th>0</th>\n",
              "      <td>1985504</td>\n",
              "      <td>3684</td>\n",
              "      <td>3.0</td>\n",
              "      <td>3.764199</td>\n",
              "      <td>{'was_impossible': False}</td>\n",
              "      <td>31</td>\n",
              "      <td>1866</td>\n",
              "      <td>0.764199</td>\n",
              "    </tr>\n",
              "    <tr>\n",
              "      <th>1</th>\n",
              "      <td>2432474</td>\n",
              "      <td>2470</td>\n",
              "      <td>2.0</td>\n",
              "      <td>3.153183</td>\n",
              "      <td>{'was_impossible': False}</td>\n",
              "      <td>35</td>\n",
              "      <td>2483</td>\n",
              "      <td>1.153183</td>\n",
              "    </tr>\n",
              "    <tr>\n",
              "      <th>2</th>\n",
              "      <td>1181784</td>\n",
              "      <td>3825</td>\n",
              "      <td>3.0</td>\n",
              "      <td>3.333126</td>\n",
              "      <td>{'was_impossible': False}</td>\n",
              "      <td>43</td>\n",
              "      <td>2428</td>\n",
              "      <td>0.333126</td>\n",
              "    </tr>\n",
              "    <tr>\n",
              "      <th>3</th>\n",
              "      <td>70125</td>\n",
              "      <td>3315</td>\n",
              "      <td>4.0</td>\n",
              "      <td>4.289948</td>\n",
              "      <td>{'was_impossible': False}</td>\n",
              "      <td>28</td>\n",
              "      <td>1232</td>\n",
              "      <td>0.289948</td>\n",
              "    </tr>\n",
              "    <tr>\n",
              "      <th>4</th>\n",
              "      <td>1048629</td>\n",
              "      <td>1659</td>\n",
              "      <td>5.0</td>\n",
              "      <td>3.580244</td>\n",
              "      <td>{'was_impossible': False}</td>\n",
              "      <td>34</td>\n",
              "      <td>2143</td>\n",
              "      <td>1.419756</td>\n",
              "    </tr>\n",
              "  </tbody>\n",
              "</table>\n",
              "</div>\n",
              "      <button class=\"colab-df-convert\" onclick=\"convertToInteractive('df-3effdc32-d2c1-4ca2-9397-df3d676d16c5')\"\n",
              "              title=\"Convert this dataframe to an interactive table.\"\n",
              "              style=\"display:none;\">\n",
              "        \n",
              "  <svg xmlns=\"http://www.w3.org/2000/svg\" height=\"24px\"viewBox=\"0 0 24 24\"\n",
              "       width=\"24px\">\n",
              "    <path d=\"M0 0h24v24H0V0z\" fill=\"none\"/>\n",
              "    <path d=\"M18.56 5.44l.94 2.06.94-2.06 2.06-.94-2.06-.94-.94-2.06-.94 2.06-2.06.94zm-11 1L8.5 8.5l.94-2.06 2.06-.94-2.06-.94L8.5 2.5l-.94 2.06-2.06.94zm10 10l.94 2.06.94-2.06 2.06-.94-2.06-.94-.94-2.06-.94 2.06-2.06.94z\"/><path d=\"M17.41 7.96l-1.37-1.37c-.4-.4-.92-.59-1.43-.59-.52 0-1.04.2-1.43.59L10.3 9.45l-7.72 7.72c-.78.78-.78 2.05 0 2.83L4 21.41c.39.39.9.59 1.41.59.51 0 1.02-.2 1.41-.59l7.78-7.78 2.81-2.81c.8-.78.8-2.07 0-2.86zM5.41 20L4 18.59l7.72-7.72 1.47 1.35L5.41 20z\"/>\n",
              "  </svg>\n",
              "      </button>\n",
              "      \n",
              "  <style>\n",
              "    .colab-df-container {\n",
              "      display:flex;\n",
              "      flex-wrap:wrap;\n",
              "      gap: 12px;\n",
              "    }\n",
              "\n",
              "    .colab-df-convert {\n",
              "      background-color: #E8F0FE;\n",
              "      border: none;\n",
              "      border-radius: 50%;\n",
              "      cursor: pointer;\n",
              "      display: none;\n",
              "      fill: #1967D2;\n",
              "      height: 32px;\n",
              "      padding: 0 0 0 0;\n",
              "      width: 32px;\n",
              "    }\n",
              "\n",
              "    .colab-df-convert:hover {\n",
              "      background-color: #E2EBFA;\n",
              "      box-shadow: 0px 1px 2px rgba(60, 64, 67, 0.3), 0px 1px 3px 1px rgba(60, 64, 67, 0.15);\n",
              "      fill: #174EA6;\n",
              "    }\n",
              "\n",
              "    [theme=dark] .colab-df-convert {\n",
              "      background-color: #3B4455;\n",
              "      fill: #D2E3FC;\n",
              "    }\n",
              "\n",
              "    [theme=dark] .colab-df-convert:hover {\n",
              "      background-color: #434B5C;\n",
              "      box-shadow: 0px 1px 3px 1px rgba(0, 0, 0, 0.15);\n",
              "      filter: drop-shadow(0px 1px 2px rgba(0, 0, 0, 0.3));\n",
              "      fill: #FFFFFF;\n",
              "    }\n",
              "  </style>\n",
              "\n",
              "      <script>\n",
              "        const buttonEl =\n",
              "          document.querySelector('#df-3effdc32-d2c1-4ca2-9397-df3d676d16c5 button.colab-df-convert');\n",
              "        buttonEl.style.display =\n",
              "          google.colab.kernel.accessAllowed ? 'block' : 'none';\n",
              "\n",
              "        async function convertToInteractive(key) {\n",
              "          const element = document.querySelector('#df-3effdc32-d2c1-4ca2-9397-df3d676d16c5');\n",
              "          const dataTable =\n",
              "            await google.colab.kernel.invokeFunction('convertToInteractive',\n",
              "                                                     [key], {});\n",
              "          if (!dataTable) return;\n",
              "\n",
              "          const docLinkHtml = 'Like what you see? Visit the ' +\n",
              "            '<a target=\"_blank\" href=https://colab.research.google.com/notebooks/data_table.ipynb>data table notebook</a>'\n",
              "            + ' to learn more about interactive tables.';\n",
              "          element.innerHTML = '';\n",
              "          dataTable['output_type'] = 'display_data';\n",
              "          await google.colab.output.renderOutput(dataTable, element);\n",
              "          const docLink = document.createElement('div');\n",
              "          docLink.innerHTML = docLinkHtml;\n",
              "          element.appendChild(docLink);\n",
              "        }\n",
              "      </script>\n",
              "    </div>\n",
              "  </div>\n",
              "  "
            ]
          },
          "metadata": {},
          "execution_count": 47
        }
      ]
    },
    {
      "cell_type": "markdown",
      "source": [
        "After exploring the rmse and mae for the errors, we saw that ratings where being missed by less than 1 rating point (on average). It would be interesting to see as well, what the distribution of our errors looked like. "
      ],
      "metadata": {
        "id": "RsmewR4a70OA"
      },
      "id": "RsmewR4a70OA"
    },
    {
      "cell_type": "code",
      "source": [
        "df['err'].describe()"
      ],
      "metadata": {
        "colab": {
          "base_uri": "https://localhost:8080/"
        },
        "id": "GzaDaaKM8GAy",
        "outputId": "c5d29aa7-c921-4633-b949-c13eb32bf9e4"
      },
      "id": "GzaDaaKM8GAy",
      "execution_count": null,
      "outputs": [
        {
          "output_type": "execute_result",
          "data": {
            "text/plain": [
              "count    140940.000000\n",
              "mean          0.695393\n",
              "std           0.543167\n",
              "min           0.000000\n",
              "25%           0.276271\n",
              "50%           0.578477\n",
              "75%           0.989581\n",
              "max           4.000000\n",
              "Name: err, dtype: float64"
            ]
          },
          "metadata": {},
          "execution_count": 57
        }
      ]
    },
    {
      "cell_type": "code",
      "source": [
        "sns.histplot(df['err']);"
      ],
      "metadata": {
        "colab": {
          "base_uri": "https://localhost:8080/",
          "height": 279
        },
        "id": "Wth7e_rP8M4j",
        "outputId": "60325767-c284-428d-fa4f-7e32e432f727"
      },
      "id": "Wth7e_rP8M4j",
      "execution_count": null,
      "outputs": [
        {
          "output_type": "display_data",
          "data": {
            "text/plain": [
              "<Figure size 432x288 with 1 Axes>"
            ],
            "image/png": "[encoded data removed]"
          },
          "metadata": {
            "needs_background": "light"
          }
        }
      ]
    },
    {
      "cell_type": "code",
      "source": [
        "sns.boxplot(df['err']);"
      ],
      "metadata": {
        "colab": {
          "base_uri": "https://localhost:8080/",
          "height": 334
        },
        "id": "jZGq84eV8uLn",
        "outputId": "63e266b2-d02a-455f-eab6-7e5096a747d3"
      },
      "id": "jZGq84eV8uLn",
      "execution_count": null,
      "outputs": [
        {
          "output_type": "stream",
          "name": "stderr",
          "text": [
            "/usr/local/lib/python3.7/dist-packages/seaborn/_decorators.py:43: FutureWarning: Pass the following variable as a keyword arg: x. From version 0.12, the only valid positional argument will be `data`, and passing other arguments without an explicit keyword will result in an error or misinterpretation.\n",
            "  FutureWarning\n"
          ]
        },
        {
          "output_type": "display_data",
          "data": {
            "text/plain": [
              "<Figure size 432x288 with 1 Axes>"
            ],
            "image/png": "[encoded data removed]"
          },
          "metadata": {
            "needs_background": "light"
          }
        }
      ]
    },
    {
      "cell_type": "markdown",
      "source": [
        "The vast majority of errors are of 1 rating point or less. In fact, about 25% of ratings were missed by only .27 rating points. \n",
        "\n",
        "Errors of above 2 rating points are outliers. \n"
      ],
      "metadata": {
        "id": "LW1xyOC08plk"
      },
      "id": "LW1xyOC08plk"
    },
    {
      "cell_type": "code",
      "source": [
        "best_predictions = df.sort_values(by='err')[:10]\n",
        "worst_predictions = df.sort_values(by='err')[-10:]"
      ],
      "metadata": {
        "id": "Mi4eln880-JO"
      },
      "id": "Mi4eln880-JO",
      "execution_count": null,
      "outputs": []
    },
    {
      "cell_type": "code",
      "source": [
        "best_predictions"
      ],
      "metadata": {
        "colab": {
          "base_uri": "https://localhost:8080/",
          "height": 363
        },
        "id": "T_kdUKNj1Xy-",
        "outputId": "922a8648-d5b0-41b5-8018-34c327ee753f"
      },
      "id": "T_kdUKNj1Xy-",
      "execution_count": null,
      "outputs": [
        {
          "output_type": "execute_result",
          "data": {
            "text/plain": [
              "            uid   iid  rui  est                    details  Iu    Ui  err\n",
              "17807   2624910  2862  5.0  5.0  {'was_impossible': False}  29  3009  0.0\n",
              "119142  1096159  4306  5.0  5.0  {'was_impossible': False}  23  3113  0.0\n",
              "137508  2072167  1798  5.0  5.0  {'was_impossible': False}  29  2746  0.0\n",
              "18154    844028  3538  5.0  5.0  {'was_impossible': False}  38  1969  0.0\n",
              "66484   2056657  1905  5.0  5.0  {'was_impossible': False}  19  3153  0.0\n",
              "130741  1664010  2862  5.0  5.0  {'was_impossible': False}  44  3009  0.0\n",
              "58926   2516525  1905  5.0  5.0  {'was_impossible': False}  37  3153  0.0\n",
              "134963   494440   886  5.0  5.0  {'was_impossible': False}  30  1935  0.0\n",
              "70481   2349595   886  5.0  5.0  {'was_impossible': False}  30  1935  0.0\n",
              "70494   1252539  1220  5.0  5.0  {'was_impossible': False}  31  2361  0.0"
            ],
            "text/html": [
              "\n",
              "  <div id=\"df-b3b5e383-d288-4e83-b84a-4687d7ccaf4b\">\n",
              "    <div class=\"colab-df-container\">\n",
              "      <div>\n",
              "<style scoped>\n",
              "    .dataframe tbody tr th:only-of-type {\n",
              "        vertical-align: middle;\n",
              "    }\n",
              "\n",
              "    .dataframe tbody tr th {\n",
              "        vertical-align: top;\n",
              "    }\n",
              "\n",
              "    .dataframe thead th {\n",
              "        text-align: right;\n",
              "    }\n",
              "</style>\n",
              "<table border=\"1\" class=\"dataframe\">\n",
              "  <thead>\n",
              "    <tr style=\"text-align: right;\">\n",
              "      <th></th>\n",
              "      <th>uid</th>\n",
              "      <th>iid</th>\n",
              "      <th>rui</th>\n",
              "      <th>est</th>\n",
              "      <th>details</th>\n",
              "      <th>Iu</th>\n",
              "      <th>Ui</th>\n",
              "      <th>err</th>\n",
              "    </tr>\n",
              "  </thead>\n",
              "  <tbody>\n",
              "    <tr>\n",
              "      <th>17807</th>\n",
              "      <td>2624910</td>\n",
              "      <td>2862</td>\n",
              "      <td>5.0</td>\n",
              "      <td>5.0</td>\n",
              "      <td>{'was_impossible': False}</td>\n",
              "      <td>29</td>\n",
              "      <td>3009</td>\n",
              "      <td>0.0</td>\n",
              "    </tr>\n",
              "    <tr>\n",
              "      <th>119142</th>\n",
              "      <td>1096159</td>\n",
              "      <td>4306</td>\n",
              "      <td>5.0</td>\n",
              "      <td>5.0</td>\n",
              "      <td>{'was_impossible': False}</td>\n",
              "      <td>23</td>\n",
              "      <td>3113</td>\n",
              "      <td>0.0</td>\n",
              "    </tr>\n",
              "    <tr>\n",
              "      <th>137508</th>\n",
              "      <td>2072167</td>\n",
              "      <td>1798</td>\n",
              "      <td>5.0</td>\n",
              "      <td>5.0</td>\n",
              "      <td>{'was_impossible': False}</td>\n",
              "      <td>29</td>\n",
              "      <td>2746</td>\n",
              "      <td>0.0</td>\n",
              "    </tr>\n",
              "    <tr>\n",
              "      <th>18154</th>\n",
              "      <td>844028</td>\n",
              "      <td>3538</td>\n",
              "      <td>5.0</td>\n",
              "      <td>5.0</td>\n",
              "      <td>{'was_impossible': False}</td>\n",
              "      <td>38</td>\n",
              "      <td>1969</td>\n",
              "      <td>0.0</td>\n",
              "    </tr>\n",
              "    <tr>\n",
              "      <th>66484</th>\n",
              "      <td>2056657</td>\n",
              "      <td>1905</td>\n",
              "      <td>5.0</td>\n",
              "      <td>5.0</td>\n",
              "      <td>{'was_impossible': False}</td>\n",
              "      <td>19</td>\n",
              "      <td>3153</td>\n",
              "      <td>0.0</td>\n",
              "    </tr>\n",
              "    <tr>\n",
              "      <th>130741</th>\n",
              "      <td>1664010</td>\n",
              "      <td>2862</td>\n",
              "      <td>5.0</td>\n",
              "      <td>5.0</td>\n",
              "      <td>{'was_impossible': False}</td>\n",
              "      <td>44</td>\n",
              "      <td>3009</td>\n",
              "      <td>0.0</td>\n",
              "    </tr>\n",
              "    <tr>\n",
              "      <th>58926</th>\n",
              "      <td>2516525</td>\n",
              "      <td>1905</td>\n",
              "      <td>5.0</td>\n",
              "      <td>5.0</td>\n",
              "      <td>{'was_impossible': False}</td>\n",
              "      <td>37</td>\n",
              "      <td>3153</td>\n",
              "      <td>0.0</td>\n",
              "    </tr>\n",
              "    <tr>\n",
              "      <th>134963</th>\n",
              "      <td>494440</td>\n",
              "      <td>886</td>\n",
              "      <td>5.0</td>\n",
              "      <td>5.0</td>\n",
              "      <td>{'was_impossible': False}</td>\n",
              "      <td>30</td>\n",
              "      <td>1935</td>\n",
              "      <td>0.0</td>\n",
              "    </tr>\n",
              "    <tr>\n",
              "      <th>70481</th>\n",
              "      <td>2349595</td>\n",
              "      <td>886</td>\n",
              "      <td>5.0</td>\n",
              "      <td>5.0</td>\n",
              "      <td>{'was_impossible': False}</td>\n",
              "      <td>30</td>\n",
              "      <td>1935</td>\n",
              "      <td>0.0</td>\n",
              "    </tr>\n",
              "    <tr>\n",
              "      <th>70494</th>\n",
              "      <td>1252539</td>\n",
              "      <td>1220</td>\n",
              "      <td>5.0</td>\n",
              "      <td>5.0</td>\n",
              "      <td>{'was_impossible': False}</td>\n",
              "      <td>31</td>\n",
              "      <td>2361</td>\n",
              "      <td>0.0</td>\n",
              "    </tr>\n",
              "  </tbody>\n",
              "</table>\n",
              "</div>\n",
              "      <button class=\"colab-df-convert\" onclick=\"convertToInteractive('df-b3b5e383-d288-4e83-b84a-4687d7ccaf4b')\"\n",
              "              title=\"Convert this dataframe to an interactive table.\"\n",
              "              style=\"display:none;\">\n",
              "        \n",
              "  <svg xmlns=\"http://www.w3.org/2000/svg\" height=\"24px\"viewBox=\"0 0 24 24\"\n",
              "       width=\"24px\">\n",
              "    <path d=\"M0 0h24v24H0V0z\" fill=\"none\"/>\n",
              "    <path d=\"M18.56 5.44l.94 2.06.94-2.06 2.06-.94-2.06-.94-.94-2.06-.94 2.06-2.06.94zm-11 1L8.5 8.5l.94-2.06 2.06-.94-2.06-.94L8.5 2.5l-.94 2.06-2.06.94zm10 10l.94 2.06.94-2.06 2.06-.94-2.06-.94-.94-2.06-.94 2.06-2.06.94z\"/><path d=\"M17.41 7.96l-1.37-1.37c-.4-.4-.92-.59-1.43-.59-.52 0-1.04.2-1.43.59L10.3 9.45l-7.72 7.72c-.78.78-.78 2.05 0 2.83L4 21.41c.39.39.9.59 1.41.59.51 0 1.02-.2 1.41-.59l7.78-7.78 2.81-2.81c.8-.78.8-2.07 0-2.86zM5.41 20L4 18.59l7.72-7.72 1.47 1.35L5.41 20z\"/>\n",
              "  </svg>\n",
              "      </button>\n",
              "      \n",
              "  <style>\n",
              "    .colab-df-container {\n",
              "      display:flex;\n",
              "      flex-wrap:wrap;\n",
              "      gap: 12px;\n",
              "    }\n",
              "\n",
              "    .colab-df-convert {\n",
              "      background-color: #E8F0FE;\n",
              "      border: none;\n",
              "      border-radius: 50%;\n",
              "      cursor: pointer;\n",
              "      display: none;\n",
              "      fill: #1967D2;\n",
              "      height: 32px;\n",
              "      padding: 0 0 0 0;\n",
              "      width: 32px;\n",
              "    }\n",
              "\n",
              "    .colab-df-convert:hover {\n",
              "      background-color: #E2EBFA;\n",
              "      box-shadow: 0px 1px 2px rgba(60, 64, 67, 0.3), 0px 1px 3px 1px rgba(60, 64, 67, 0.15);\n",
              "      fill: #174EA6;\n",
              "    }\n",
              "\n",
              "    [theme=dark] .colab-df-convert {\n",
              "      background-color: #3B4455;\n",
              "      fill: #D2E3FC;\n",
              "    }\n",
              "\n",
              "    [theme=dark] .colab-df-convert:hover {\n",
              "      background-color: #434B5C;\n",
              "      box-shadow: 0px 1px 3px 1px rgba(0, 0, 0, 0.15);\n",
              "      filter: drop-shadow(0px 1px 2px rgba(0, 0, 0, 0.3));\n",
              "      fill: #FFFFFF;\n",
              "    }\n",
              "  </style>\n",
              "\n",
              "      <script>\n",
              "        const buttonEl =\n",
              "          document.querySelector('#df-b3b5e383-d288-4e83-b84a-4687d7ccaf4b button.colab-df-convert');\n",
              "        buttonEl.style.display =\n",
              "          google.colab.kernel.accessAllowed ? 'block' : 'none';\n",
              "\n",
              "        async function convertToInteractive(key) {\n",
              "          const element = document.querySelector('#df-b3b5e383-d288-4e83-b84a-4687d7ccaf4b');\n",
              "          const dataTable =\n",
              "            await google.colab.kernel.invokeFunction('convertToInteractive',\n",
              "                                                     [key], {});\n",
              "          if (!dataTable) return;\n",
              "\n",
              "          const docLinkHtml = 'Like what you see? Visit the ' +\n",
              "            '<a target=\"_blank\" href=https://colab.research.google.com/notebooks/data_table.ipynb>data table notebook</a>'\n",
              "            + ' to learn more about interactive tables.';\n",
              "          element.innerHTML = '';\n",
              "          dataTable['output_type'] = 'display_data';\n",
              "          await google.colab.output.renderOutput(dataTable, element);\n",
              "          const docLink = document.createElement('div');\n",
              "          docLink.innerHTML = docLinkHtml;\n",
              "          element.appendChild(docLink);\n",
              "        }\n",
              "      </script>\n",
              "    </div>\n",
              "  </div>\n",
              "  "
            ]
          },
          "metadata": {},
          "execution_count": 49
        }
      ]
    },
    {
      "cell_type": "code",
      "source": [
        "worst_predictions"
      ],
      "metadata": {
        "colab": {
          "base_uri": "https://localhost:8080/",
          "height": 363
        },
        "id": "g_Bm7C2c1Y9_",
        "outputId": "280dd533-a145-4ed0-af5c-f5ff0b88d896"
      },
      "id": "g_Bm7C2c1Y9_",
      "execution_count": null,
      "outputs": [
        {
          "output_type": "execute_result",
          "data": {
            "text/plain": [
              "            uid   iid  rui       est                    details  Iu    Ui  \\\n",
              "121711  2088784  3538  1.0  4.775815  {'was_impossible': False}  22  1969   \n",
              "29532   2327365  3290  1.0  4.825459  {'was_impossible': False}  23  2274   \n",
              "2714    1126697  2452  1.0  4.826429  {'was_impossible': False}  30  2981   \n",
              "42090   1699606   482  1.0  4.854717  {'was_impossible': False}  32  1371   \n",
              "48154   1952860   457  1.0  4.857172  {'was_impossible': False}  24  2463   \n",
              "51749   1252539  4302  1.0  4.860337  {'was_impossible': False}  31  2106   \n",
              "73606   1400378  2122  1.0  4.884381  {'was_impossible': False}  33  2249   \n",
              "111886  1400378  1324  1.0  4.912012  {'was_impossible': False}  33  2233   \n",
              "130255  1494196   270  1.0  4.918877  {'was_impossible': False}  22  1105   \n",
              "10162    844028  1905  1.0  5.000000  {'was_impossible': False}  38  3153   \n",
              "\n",
              "             err  \n",
              "121711  3.775815  \n",
              "29532   3.825459  \n",
              "2714    3.826429  \n",
              "42090   3.854717  \n",
              "48154   3.857172  \n",
              "51749   3.860337  \n",
              "73606   3.884381  \n",
              "111886  3.912012  \n",
              "130255  3.918877  \n",
              "10162   4.000000  "
            ],
            "text/html": [
              "\n",
              "  <div id=\"df-1cf078fd-06e3-48f0-baee-c5896b994bd0\">\n",
              "    <div class=\"colab-df-container\">\n",
              "      <div>\n",
              "<style scoped>\n",
              "    .dataframe tbody tr th:only-of-type {\n",
              "        vertical-align: middle;\n",
              "    }\n",
              "\n",
              "    .dataframe tbody tr th {\n",
              "        vertical-align: top;\n",
              "    }\n",
              "\n",
              "    .dataframe thead th {\n",
              "        text-align: right;\n",
              "    }\n",
              "</style>\n",
              "<table border=\"1\" class=\"dataframe\">\n",
              "  <thead>\n",
              "    <tr style=\"text-align: right;\">\n",
              "      <th></th>\n",
              "      <th>uid</th>\n",
              "      <th>iid</th>\n",
              "      <th>rui</th>\n",
              "      <th>est</th>\n",
              "      <th>details</th>\n",
              "      <th>Iu</th>\n",
              "      <th>Ui</th>\n",
              "      <th>err</th>\n",
              "    </tr>\n",
              "  </thead>\n",
              "  <tbody>\n",
              "    <tr>\n",
              "      <th>121711</th>\n",
              "      <td>2088784</td>\n",
              "      <td>3538</td>\n",
              "      <td>1.0</td>\n",
              "      <td>4.775815</td>\n",
              "      <td>{'was_impossible': False}</td>\n",
              "      <td>22</td>\n",
              "      <td>1969</td>\n",
              "      <td>3.775815</td>\n",
              "    </tr>\n",
              "    <tr>\n",
              "      <th>29532</th>\n",
              "      <td>2327365</td>\n",
              "      <td>3290</td>\n",
              "      <td>1.0</td>\n",
              "      <td>4.825459</td>\n",
              "      <td>{'was_impossible': False}</td>\n",
              "      <td>23</td>\n",
              "      <td>2274</td>\n",
              "      <td>3.825459</td>\n",
              "    </tr>\n",
              "    <tr>\n",
              "      <th>2714</th>\n",
              "      <td>1126697</td>\n",
              "      <td>2452</td>\n",
              "      <td>1.0</td>\n",
              "      <td>4.826429</td>\n",
              "      <td>{'was_impossible': False}</td>\n",
              "      <td>30</td>\n",
              "      <td>2981</td>\n",
              "      <td>3.826429</td>\n",
              "    </tr>\n",
              "    <tr>\n",
              "      <th>42090</th>\n",
              "      <td>1699606</td>\n",
              "      <td>482</td>\n",
              "      <td>1.0</td>\n",
              "      <td>4.854717</td>\n",
              "      <td>{'was_impossible': False}</td>\n",
              "      <td>32</td>\n",
              "      <td>1371</td>\n",
              "      <td>3.854717</td>\n",
              "    </tr>\n",
              "    <tr>\n",
              "      <th>48154</th>\n",
              "      <td>1952860</td>\n",
              "      <td>457</td>\n",
              "      <td>1.0</td>\n",
              "      <td>4.857172</td>\n",
              "      <td>{'was_impossible': False}</td>\n",
              "      <td>24</td>\n",
              "      <td>2463</td>\n",
              "      <td>3.857172</td>\n",
              "    </tr>\n",
              "    <tr>\n",
              "      <th>51749</th>\n",
              "      <td>1252539</td>\n",
              "      <td>4302</td>\n",
              "      <td>1.0</td>\n",
              "      <td>4.860337</td>\n",
              "      <td>{'was_impossible': False}</td>\n",
              "      <td>31</td>\n",
              "      <td>2106</td>\n",
              "      <td>3.860337</td>\n",
              "    </tr>\n",
              "    <tr>\n",
              "      <th>73606</th>\n",
              "      <td>1400378</td>\n",
              "      <td>2122</td>\n",
              "      <td>1.0</td>\n",
              "      <td>4.884381</td>\n",
              "      <td>{'was_impossible': False}</td>\n",
              "      <td>33</td>\n",
              "      <td>2249</td>\n",
              "      <td>3.884381</td>\n",
              "    </tr>\n",
              "    <tr>\n",
              "      <th>111886</th>\n",
              "      <td>1400378</td>\n",
              "      <td>1324</td>\n",
              "      <td>1.0</td>\n",
              "      <td>4.912012</td>\n",
              "      <td>{'was_impossible': False}</td>\n",
              "      <td>33</td>\n",
              "      <td>2233</td>\n",
              "      <td>3.912012</td>\n",
              "    </tr>\n",
              "    <tr>\n",
              "      <th>130255</th>\n",
              "      <td>1494196</td>\n",
              "      <td>270</td>\n",
              "      <td>1.0</td>\n",
              "      <td>4.918877</td>\n",
              "      <td>{'was_impossible': False}</td>\n",
              "      <td>22</td>\n",
              "      <td>1105</td>\n",
              "      <td>3.918877</td>\n",
              "    </tr>\n",
              "    <tr>\n",
              "      <th>10162</th>\n",
              "      <td>844028</td>\n",
              "      <td>1905</td>\n",
              "      <td>1.0</td>\n",
              "      <td>5.000000</td>\n",
              "      <td>{'was_impossible': False}</td>\n",
              "      <td>38</td>\n",
              "      <td>3153</td>\n",
              "      <td>4.000000</td>\n",
              "    </tr>\n",
              "  </tbody>\n",
              "</table>\n",
              "</div>\n",
              "      <button class=\"colab-df-convert\" onclick=\"convertToInteractive('df-1cf078fd-06e3-48f0-baee-c5896b994bd0')\"\n",
              "              title=\"Convert this dataframe to an interactive table.\"\n",
              "              style=\"display:none;\">\n",
              "        \n",
              "  <svg xmlns=\"http://www.w3.org/2000/svg\" height=\"24px\"viewBox=\"0 0 24 24\"\n",
              "       width=\"24px\">\n",
              "    <path d=\"M0 0h24v24H0V0z\" fill=\"none\"/>\n",
              "    <path d=\"M18.56 5.44l.94 2.06.94-2.06 2.06-.94-2.06-.94-.94-2.06-.94 2.06-2.06.94zm-11 1L8.5 8.5l.94-2.06 2.06-.94-2.06-.94L8.5 2.5l-.94 2.06-2.06.94zm10 10l.94 2.06.94-2.06 2.06-.94-2.06-.94-.94-2.06-.94 2.06-2.06.94z\"/><path d=\"M17.41 7.96l-1.37-1.37c-.4-.4-.92-.59-1.43-.59-.52 0-1.04.2-1.43.59L10.3 9.45l-7.72 7.72c-.78.78-.78 2.05 0 2.83L4 21.41c.39.39.9.59 1.41.59.51 0 1.02-.2 1.41-.59l7.78-7.78 2.81-2.81c.8-.78.8-2.07 0-2.86zM5.41 20L4 18.59l7.72-7.72 1.47 1.35L5.41 20z\"/>\n",
              "  </svg>\n",
              "      </button>\n",
              "      \n",
              "  <style>\n",
              "    .colab-df-container {\n",
              "      display:flex;\n",
              "      flex-wrap:wrap;\n",
              "      gap: 12px;\n",
              "    }\n",
              "\n",
              "    .colab-df-convert {\n",
              "      background-color: #E8F0FE;\n",
              "      border: none;\n",
              "      border-radius: 50%;\n",
              "      cursor: pointer;\n",
              "      display: none;\n",
              "      fill: #1967D2;\n",
              "      height: 32px;\n",
              "      padding: 0 0 0 0;\n",
              "      width: 32px;\n",
              "    }\n",
              "\n",
              "    .colab-df-convert:hover {\n",
              "      background-color: #E2EBFA;\n",
              "      box-shadow: 0px 1px 2px rgba(60, 64, 67, 0.3), 0px 1px 3px 1px rgba(60, 64, 67, 0.15);\n",
              "      fill: #174EA6;\n",
              "    }\n",
              "\n",
              "    [theme=dark] .colab-df-convert {\n",
              "      background-color: #3B4455;\n",
              "      fill: #D2E3FC;\n",
              "    }\n",
              "\n",
              "    [theme=dark] .colab-df-convert:hover {\n",
              "      background-color: #434B5C;\n",
              "      box-shadow: 0px 1px 3px 1px rgba(0, 0, 0, 0.15);\n",
              "      filter: drop-shadow(0px 1px 2px rgba(0, 0, 0, 0.3));\n",
              "      fill: #FFFFFF;\n",
              "    }\n",
              "  </style>\n",
              "\n",
              "      <script>\n",
              "        const buttonEl =\n",
              "          document.querySelector('#df-1cf078fd-06e3-48f0-baee-c5896b994bd0 button.colab-df-convert');\n",
              "        buttonEl.style.display =\n",
              "          google.colab.kernel.accessAllowed ? 'block' : 'none';\n",
              "\n",
              "        async function convertToInteractive(key) {\n",
              "          const element = document.querySelector('#df-1cf078fd-06e3-48f0-baee-c5896b994bd0');\n",
              "          const dataTable =\n",
              "            await google.colab.kernel.invokeFunction('convertToInteractive',\n",
              "                                                     [key], {});\n",
              "          if (!dataTable) return;\n",
              "\n",
              "          const docLinkHtml = 'Like what you see? Visit the ' +\n",
              "            '<a target=\"_blank\" href=https://colab.research.google.com/notebooks/data_table.ipynb>data table notebook</a>'\n",
              "            + ' to learn more about interactive tables.';\n",
              "          element.innerHTML = '';\n",
              "          dataTable['output_type'] = 'display_data';\n",
              "          await google.colab.output.renderOutput(dataTable, element);\n",
              "          const docLink = document.createElement('div');\n",
              "          docLink.innerHTML = docLinkHtml;\n",
              "          element.appendChild(docLink);\n",
              "        }\n",
              "      </script>\n",
              "    </div>\n",
              "  </div>\n",
              "  "
            ]
          },
          "metadata": {},
          "execution_count": 50
        }
      ]
    },
    {
      "cell_type": "markdown",
      "source": [
        "The worst prediction was for item 2452 and for user 2482783, I am curious to know how many users have rated this item and how many items has this user rated."
      ],
      "metadata": {
        "id": "RLuBV3MR3L-M"
      },
      "id": "RLuBV3MR3L-M"
    },
    {
      "cell_type": "code",
      "source": [
        "new_train.loc[new_train['Movie_ID']==2452]['Rating'].describe()\n"
      ],
      "metadata": {
        "colab": {
          "base_uri": "https://localhost:8080/"
        },
        "id": "RIxRblnG1cVg",
        "outputId": "b307d612-ea54-475e-9f3b-5875766f571f"
      },
      "id": "RIxRblnG1cVg",
      "execution_count": null,
      "outputs": [
        {
          "output_type": "execute_result",
          "data": {
            "text/plain": [
              "count    3982.000000\n",
              "mean        4.432697\n",
              "std         0.889169\n",
              "min         1.000000\n",
              "25%         4.000000\n",
              "50%         5.000000\n",
              "75%         5.000000\n",
              "max         5.000000\n",
              "Name: Rating, dtype: float64"
            ]
          },
          "metadata": {},
          "execution_count": 51
        }
      ]
    },
    {
      "cell_type": "code",
      "source": [
        "new_train.loc[new_train['Movie_ID'] == 2452]['Rating'].hist()\n",
        "plt.xlabel('rating')\n",
        "plt.ylabel('Number of ratings')\n",
        "plt.title('Number of ratings Movie  2452 has received')\n",
        "plt.show();"
      ],
      "metadata": {
        "colab": {
          "base_uri": "https://localhost:8080/",
          "height": 295
        },
        "id": "cx5qzp4i3wdo",
        "outputId": "25966268-82bb-491a-b440-805c295e67cb"
      },
      "id": "cx5qzp4i3wdo",
      "execution_count": null,
      "outputs": [
        {
          "output_type": "display_data",
          "data": {
            "text/plain": [
              "<Figure size 432x288 with 1 Axes>"
            ],
            "image/png": "[encoded data removed]"
          },
          "metadata": {
            "needs_background": "light"
          }
        }
      ]
    },
    {
      "cell_type": "markdown",
      "source": [
        "This most people have rated this movie a 5, so it is quite popular. It makes sense that many predictions for the rating of this movie will tend to be high. "
      ],
      "metadata": {
        "id": "MVfi7-WYEwFC"
      },
      "id": "MVfi7-WYEwFC"
    },
    {
      "cell_type": "code",
      "source": [
        "new_train.loc[new_train['User_ID']==2482738]['Rating'].describe()\n"
      ],
      "metadata": {
        "colab": {
          "base_uri": "https://localhost:8080/"
        },
        "id": "C-0H0Ps9G50A",
        "outputId": "2558a531-f4dd-4bae-8bf3-70b77740207f"
      },
      "id": "C-0H0Ps9G50A",
      "execution_count": null,
      "outputs": [
        {
          "output_type": "execute_result",
          "data": {
            "text/plain": [
              "count    17.000000\n",
              "mean      4.352941\n",
              "std       1.114741\n",
              "min       1.000000\n",
              "25%       4.000000\n",
              "50%       5.000000\n",
              "75%       5.000000\n",
              "max       5.000000\n",
              "Name: Rating, dtype: float64"
            ]
          },
          "metadata": {},
          "execution_count": 53
        }
      ]
    },
    {
      "cell_type": "code",
      "source": [
        "new_train.loc[new_train['User_ID'] == 2482738]['Rating'].hist()\n",
        "plt.xlabel('rating')\n",
        "plt.ylabel('Number of ratings')\n",
        "plt.title('Distribution of ratings for User 2482738')\n",
        "plt.show();"
      ],
      "metadata": {
        "colab": {
          "base_uri": "https://localhost:8080/",
          "height": 295
        },
        "id": "Tv1NfNIcHESm",
        "outputId": "c77de16a-f027-45d2-9d60-56963b285928"
      },
      "id": "Tv1NfNIcHESm",
      "execution_count": null,
      "outputs": [
        {
          "output_type": "display_data",
          "data": {
            "text/plain": [
              "<Figure size 432x288 with 1 Axes>"
            ],
            "image/png": "[encoded data removed]"
          },
          "metadata": {
            "needs_background": "light"
          }
        }
      ]
    },
    {
      "cell_type": "markdown",
      "source": [
        "Most of the ratings for this user are possitive. SVD finds other relationships between users and items to make its predictions besides whether a user tends to rank movies highly. Nonetheless, I think it is enlighting to see that the model's predictions are not completely without sense. "
      ],
      "metadata": {
        "id": "j2WoF4bNkfJI"
      },
      "id": "j2WoF4bNkfJI"
    },
    {
      "cell_type": "code",
      "source": [
        ""
      ],
      "metadata": {
        "id": "L4RnLsE2HRPw"
      },
      "id": "L4RnLsE2HRPw",
      "execution_count": null,
      "outputs": []
    },
    {
      "cell_type": "markdown",
      "source": [
        "### Final thoughts \n",
        "\n",
        "In this project we explored Netflix's dataset that was use for its Kaggle recommender system competition. The dataset that I began working with was just a small portion of the actual dataset. But even then, I had to greatly reduce the dimentionality of my dataset, first by taking a sample (30%). I then further reduced the dimentionality by filtering out users that had rated less than 5% of movies and movies that had been rated by less than 5% of users. \n",
        "\n",
        "While such filtering may have been unfair, in real practice, companies do have to make choices for new customers (cold start problem). In this scenario, I am assuming that those customers that we filtered out will have to get recommendations based on another algorith and through questions we obtain from a questionaire.\n",
        "\n",
        "We tested the reduced dataset on three different models: SVD, BaselineOnly, and KNNWithMeans. We obtained the best rmse scores from the SVD model which relies on Probabilistic Matrix Factorization. So we decided to move on with that model. \n",
        "\n",
        "We then try to find the best hyper-parameters for SVD using gridsearch, thereby reducing rmse from 0.91 to 0.88. \n",
        "\n",
        "After tuning our SVD model, we explored the errors, and we saw that on average, ratings were missed by 0.70 ratings points. We futher explored the distribution of errors and saw that a vast majority of ratings were mispredicted by 1 rating point or less. \n",
        "\n",
        "This simple SVD model provided very good predictions, the model does not need to be precise to generally make very good recommendations. If the model predicts a rating or 4 or more, if is very likely the user will enjoy the movie. If the model predicts a rating of 3 or less, it is quite likely the user will not enjoy this movie.  I do recognize that we filtered certain users and movies that would have led to a much greater distribution of errors, but in industry, there will always be that issue and in those cases, user can be recommended generally popular titles and/or be given a survey to help kick-start predictions."
      ],
      "metadata": {
        "id": "tKVj4RLK9Rv2"
      },
      "id": "tKVj4RLK9Rv2"
    },
    {
      "cell_type": "code",
      "source": [
        ""
      ],
      "metadata": {
        "id": "x02O397O9VCd"
      },
      "id": "x02O397O9VCd",
      "execution_count": null,
      "outputs": []
    }
  ],
  "metadata": {
    "kernelspec": {
      "display_name": "Python 3 (ipykernel)",
      "language": "python",
      "name": "python3"
    },
    "language_info": {
      "codemirror_mode": {
        "name": "ipython",
        "version": 3
      },
      "file_extension": ".py",
      "mimetype": "text/x-python",
      "name": "python",
      "nbconvert_exporter": "python",
      "pygments_lexer": "ipython3",
      "version": "3.9.7"
    },
    "colab": {
      "name": "movie_recommender.ipynb",
      "provenance": [],
      "collapsed_sections": [],
      "machine_shape": "hm",
      "background_execution": "on"
    },
    "gpuClass": "standard"
  },
  "nbformat": 4,
  "nbformat_minor": 5
}